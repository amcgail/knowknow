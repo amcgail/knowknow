{
 "cells": [
  {
   "cell_type": "code",
   "execution_count": 1,
   "metadata": {
    "papermill": {
     "duration": 1.098063,
     "end_time": "2020-06-04T19:42:51.956130",
     "exception": false,
     "start_time": "2020-06-04T19:42:50.858067",
     "status": "completed"
    },
    "tags": []
   },
   "outputs": [],
   "source": [
    "import sys; sys.path.append(_dh[0].split(\"knowknow\")[0])\n",
    "from knowknow import *"
   ]
  },
  {
   "cell_type": "markdown",
   "metadata": {
    "papermill": {
     "duration": 0.019946,
     "end_time": "2020-06-04T19:42:51.996023",
     "exception": false,
     "start_time": "2020-06-04T19:42:51.976077",
     "status": "completed"
    },
    "tags": []
   },
   "source": [
    "**instructions** carefully set the user parameters and run the entire notebook\n",
    "\n",
    "**output** The variable is called `\"<database_name>.<dtype>.ysum\"`. For example, `\"sociology-wos.ta.ysum\"`\n",
    "\n",
    "**description** The following notebook performs analyses on the time trend of each \"item\" of type `dtype` (`\"ta\"` for cited author, `\"c\"` for cited work, or `\"t\"` for cited term).\n",
    "These statistics are universally useful, and computing them all once saves code and computation time in later analyses.\n",
    "It also standardizes common operations, reducing the probability of a bug going unnoticed."
   ]
  },
  {
   "cell_type": "markdown",
   "metadata": {
    "papermill": {
     "duration": 0.022939,
     "end_time": "2020-06-04T19:42:52.039906",
     "exception": false,
     "start_time": "2020-06-04T19:42:52.016967",
     "status": "completed"
    },
    "tags": []
   },
   "source": [
    "# User parameters\n",
    "\n",
    "`database_name` You should already have a database of counts to use this notebook, e.g. `\"sociology-wos\"`. \n",
    "\n",
    "`dtype` The item of interest (e.g. `\"ta\"` for cited author, `\"c\"` for cited work, or `\"t\"` for cited term)"
   ]
  },
  {
   "cell_type": "code",
   "execution_count": 2,
   "metadata": {
    "papermill": {
     "duration": 0.025931,
     "end_time": "2020-06-04T19:42:52.089773",
     "exception": false,
     "start_time": "2020-06-04T19:42:52.063842",
     "status": "completed"
    },
    "tags": [
     "parameters"
    ]
   },
   "outputs": [],
   "source": [
    "database_name = \"sociology-wos-all\"\n",
    "dtype = 'c'\n",
    "\n",
    "D_CUTOFFS = [0, 0.1, 0.2, 0.3, 0.5]\n",
    "RB_CUTOFFS = [0.3, 0.5, 1, 2]\n",
    "\n",
    "compute_deaths = True"
   ]
  },
  {
   "cell_type": "code",
   "execution_count": 3,
   "metadata": {
    "papermill": {
     "duration": 0.024933,
     "end_time": "2020-06-04T19:42:52.253334",
     "exception": false,
     "start_time": "2020-06-04T19:42:52.228401",
     "status": "completed"
    },
    "tags": [
     "injected-parameters"
    ]
   },
   "outputs": [],
   "source": [
    "# Parameters\n",
    "database_name = \"sociology-wos\"\n",
    "dtype = \"ffa\"\n"
   ]
  },
  {
   "cell_type": "code",
   "execution_count": 4,
   "metadata": {
    "papermill": {
     "duration": 0.060837,
     "end_time": "2020-06-04T19:42:52.363041",
     "exception": false,
     "start_time": "2020-06-04T19:42:52.302204",
     "status": "completed"
    },
    "tags": []
   },
   "outputs": [
    {
     "name": "stdout",
     "output_type": "stream",
     "text": [
      "Pubyears loaded for 111731 entries\n"
     ]
    }
   ],
   "source": [
    "pubyears = None\n",
    "\n",
    "if 'wos' in database_name and 'jstor' in database_name:\n",
    "    raise Exception(\"Please put 'wos' or 'jstor' but not both in any database_name.\")\n",
    "    \n",
    "elif 'wos' in database_name:\n",
    "    pubyears = load_variable(\"%s.pubyears\" % database_name)\n",
    "    print(\"Pubyears loaded for %s entries\" % len(pubyears.keys()))\n",
    "    RELIABLE_DATA_ENDS_HERE = 2019\n",
    "    database_type = 'wos'\n",
    "    \n",
    "elif 'jstor' in database_name:\n",
    "    RELIABLE_DATA_ENDS_HERE = 2010\n",
    "    database_type = 'jstor'\n",
    "    \n",
    "else:\n",
    "    raise Exception(\"Please include either 'wos' or 'jstor' in the name of the variable. This keys which data processing algorithm you used.\")"
   ]
  },
  {
   "cell_type": "markdown",
   "metadata": {
    "papermill": {
     "duration": 0.018949,
     "end_time": "2020-06-04T19:42:52.402934",
     "exception": false,
     "start_time": "2020-06-04T19:42:52.383985",
     "status": "completed"
    },
    "tags": []
   },
   "source": [
    "# Helper class"
   ]
  },
  {
   "cell_type": "code",
   "execution_count": 5,
   "metadata": {
    "papermill": {
     "duration": 0.024932,
     "end_time": "2020-06-04T19:42:52.450806",
     "exception": false,
     "start_time": "2020-06-04T19:42:52.425874",
     "status": "completed"
    },
    "tags": []
   },
   "outputs": [],
   "source": [
    "class ysums:\n",
    "    def __init__(self):\n",
    "        self.ysums = []\n",
    "        self.meta = defaultdict(int)\n",
    "    def add(self, x):\n",
    "        self.ysums.append(x)"
   ]
  },
  {
   "cell_type": "code",
   "execution_count": 6,
   "metadata": {
    "papermill": {
     "duration": 0.027925,
     "end_time": "2020-06-04T19:42:52.500673",
     "exception": false,
     "start_time": "2020-06-04T19:42:52.472748",
     "status": "completed"
    },
    "tags": []
   },
   "outputs": [],
   "source": [
    "class ysum:\n",
    "    init_stack = []\n",
    "    \n",
    "    def __init__(self, **kwargs):        \n",
    "        self.dict_filter = set(list(self.__dict__)+[\"dict_filter\"]) # save dict keys\n",
    "        \n",
    "        for k,v in kwargs.items():\n",
    "            setattr(self,k,v)\n",
    "    \n",
    "        for name in self.init_stack:\n",
    "            getattr(self,name)()\n",
    "                \n",
    "    def dump(self):\n",
    "        to_return_keys = set(self.__dict__).difference(self.dict_filter)\n",
    "        \n",
    "        return {\n",
    "            k: getattr(self,k)\n",
    "            for k in to_return_keys\n",
    "            if k[0] != '_'\n",
    "        }\n",
    "    \n",
    "    @classmethod\n",
    "    def addinit(cls, st):\n",
    "        if st not in cls.init_stack:\n",
    "            cls.init_stack.append(st)"
   ]
  },
  {
   "cell_type": "markdown",
   "metadata": {
    "papermill": {
     "duration": 0.04089,
     "end_time": "2020-06-04T19:42:52.563505",
     "exception": false,
     "start_time": "2020-06-04T19:42:52.522615",
     "status": "completed"
    },
    "tags": []
   },
   "source": [
    "# Getting data"
   ]
  },
  {
   "cell_type": "code",
   "execution_count": 7,
   "metadata": {
    "papermill": {
     "duration": 0.510633,
     "end_time": "2020-06-04T19:42:53.095082",
     "exception": false,
     "start_time": "2020-06-04T19:42:52.584449",
     "status": "completed"
    },
    "tags": []
   },
   "outputs": [
    {
     "name": "stdout",
     "output_type": "stream",
     "text": [
      "Loaded keys: dict_keys(['ffa.fy', 'fy', 'ffa'])\n",
      "Available keys: ['a', 'c', 'c.c', 'c.fj', 'c.fy', 'c.fy.j', 'fa', 'fa.c', 'fa.fj', 'fa.fj.fy', 'fa.fy', 'ffa', 'ffa.c', 'ffa.fj', 'ffa.fy', 'fj', 'fj.fy', 'fj.ta', 'fj.ty', 'fy', 'fy.ta', 'fy.ty', 'ta', 'ty', 'ty.ty']\n"
     ]
    }
   ],
   "source": [
    "ysum.cits = get_cnt(\"%s.doc\"%database_name, [comb(dtype,'fy'),'fy',dtype])"
   ]
  },
  {
   "cell_type": "markdown",
   "metadata": {
    "papermill": {
     "duration": 0.048869,
     "end_time": "2020-06-04T19:42:53.165893",
     "exception": false,
     "start_time": "2020-06-04T19:42:53.117024",
     "status": "completed"
    },
    "tags": []
   },
   "source": [
    "The following reorganizes the data slightly, for efficiency"
   ]
  },
  {
   "cell_type": "code",
   "execution_count": 8,
   "metadata": {
    "papermill": {
     "duration": 0.08178,
     "end_time": "2020-06-04T19:42:53.270613",
     "exception": false,
     "start_time": "2020-06-04T19:42:53.188833",
     "status": "completed"
    },
    "tags": []
   },
   "outputs": [],
   "source": [
    "ysum.cy = defaultdict(lambda:defaultdict(int))\n",
    "\n",
    "for cross,count in ysum.cits[ comb(dtype, 'fy') ].items():\n",
    "    ysum.cy[ getattr(cross, dtype) ][ cross.fy ] = count"
   ]
  },
  {
   "cell_type": "markdown",
   "metadata": {
    "papermill": {
     "duration": 0.019947,
     "end_time": "2020-06-04T19:42:53.312501",
     "exception": false,
     "start_time": "2020-06-04T19:42:53.292554",
     "status": "completed"
    },
    "tags": []
   },
   "source": [
    "# computing simple and universal statistics"
   ]
  },
  {
   "cell_type": "code",
   "execution_count": 9,
   "metadata": {
    "execution": {
     "iopub.execute_input": "2020-06-04T19:42:53.500996Z",
     "iopub.status.busy": "2020-06-04T19:42:53.500996Z",
     "iopub.status.idle": "2020-06-04T19:42:53.503988Z",
     "shell.execute_reply": "2020-06-04T19:42:53.503988Z"
    },
    "papermill": {
     "duration": 0.168549,
     "end_time": "2020-06-04T19:42:53.503988",
     "exception": false,
     "start_time": "2020-06-04T19:42:53.335439",
     "status": "completed"
    },
    "tags": []
   },
   "outputs": [],
   "source": [
    "ysum.addinit(\"simple_stats\")\n",
    "\n",
    "class ysum(ysum):\n",
    "    \n",
    "    def simple_stats(self):\n",
    "        self._c = self.cy[ self.name ]\n",
    "        self._p =  {\n",
    "            y: count / self.cits['fy'][(y,)]\n",
    "            for y,count in self._c.items()\n",
    "            if count > 0 and self.cits['fy'][(y,)] > 0\n",
    "        }\n",
    "        \n",
    "        self.first = min(self._c)\n",
    "        self.last = max(self._c)\n",
    "        self.maxcounty = max(self._c, key=lambda y:(self._c[y],y))\n",
    "        self.maxpropy = max(self._p, key=lambda y:(self._p[y],y))\n",
    "\n",
    "        self.maxprop = self._p[ self.maxpropy ]\n",
    "        self.maxcount = self._c[ self.maxcounty ]\n",
    "        self.total = sum(self._c.values())\n",
    "        self.totalprop = sum(self._p.values())\n",
    "        \n",
    "        if dtype == 'c':\n",
    "            # extracts some extra information from the name\n",
    "            \n",
    "            self.type = 'article'\n",
    "            if database_type == 'wos':\n",
    "                sp = self.name.split(\"|\")\n",
    "                try:\n",
    "                    self.pub = int(sp[1])\n",
    "                    self.type = 'article'\n",
    "                except ValueError:\n",
    "                    self.type = 'book'\n",
    "                    self.pub = pubyears[self.name]\n",
    "\n",
    "            elif database_type == 'jstor':\n",
    "                inparens = re.findall(r'\\(([^)]+)\\)', self.name)[0]\n",
    "                self.pub = int(inparens)\n",
    "    \n",
    "            \n",
    "    def sum_between(self, A, B): #not including B\n",
    "        if A > B:\n",
    "            raise Exception(\"Can only sum forwards in time. Fix your code...\")\n",
    "        return sum( c for y,c in self._c.items() if B > y >= A )\n"
   ]
  },
  {
   "cell_type": "markdown",
   "metadata": {
    "papermill": {
     "duration": 0.019946,
     "end_time": "2020-06-04T19:42:53.545876",
     "exception": false,
     "start_time": "2020-06-04T19:42:53.525930",
     "status": "completed"
    },
    "tags": []
   },
   "source": [
    "# definitions of death"
   ]
  },
  {
   "cell_type": "markdown",
   "metadata": {
    "papermill": {
     "duration": 0.020945,
     "end_time": "2020-06-04T19:42:53.589759",
     "exception": false,
     "start_time": "2020-06-04T19:42:53.568814",
     "status": "completed"
    },
    "tags": []
   },
   "source": [
    "death$_1$ is the last year of maximum citations, \n",
    "    as long as it's before `RELIABLE_DATA_ENDS_HERE`"
   ]
  },
  {
   "cell_type": "code",
   "execution_count": 10,
   "metadata": {
    "execution": {
     "iopub.execute_input": "2020-06-04T19:42:53.635636Z",
     "iopub.status.busy": "2020-06-04T19:42:53.635636Z",
     "iopub.status.idle": "2020-06-04T19:42:53.637631Z",
     "shell.execute_reply": "2020-06-04T19:42:53.638629Z"
    },
    "papermill": {
     "duration": 0.026929,
     "end_time": "2020-06-04T19:42:53.638629",
     "exception": false,
     "start_time": "2020-06-04T19:42:53.611700",
     "status": "completed"
    },
    "tags": []
   },
   "outputs": [],
   "source": [
    "#ysum.addinit(\"_death1\")\n",
    "\n",
    "class ysum(ysum):\n",
    "    def _death1(self):\n",
    "        # DEFINING DEATH1\n",
    "        # death1 is max, as long as it's before RELIABLE_DATA_ENDS_HERE\n",
    "        if self.maxpropy <= RELIABLE_DATA_ENDS_HERE:\n",
    "            self.death1 = self.maxcounty\n",
    "            return\n",
    "        \n",
    "        self.death1 = None"
   ]
  },
  {
   "cell_type": "markdown",
   "metadata": {
    "papermill": {
     "duration": 0.019947,
     "end_time": "2020-06-04T19:42:53.709439",
     "exception": false,
     "start_time": "2020-06-04T19:42:53.689492",
     "status": "completed"
    },
    "tags": []
   },
   "source": [
    "death$_2$"
   ]
  },
  {
   "cell_type": "code",
   "execution_count": 11,
   "metadata": {
    "execution": {
     "iopub.execute_input": "2020-06-04T19:42:53.757311Z",
     "iopub.status.busy": "2020-06-04T19:42:53.757311Z",
     "iopub.status.idle": "2020-06-04T19:42:53.759305Z",
     "shell.execute_reply": "2020-06-04T19:42:53.759305Z"
    },
    "papermill": {
     "duration": 0.027925,
     "end_time": "2020-06-04T19:42:53.759305",
     "exception": false,
     "start_time": "2020-06-04T19:42:53.731380",
     "status": "completed"
    },
    "tags": []
   },
   "outputs": [],
   "source": [
    "#ysum.addinit(\"_death2\")\n",
    "\n",
    "class ysum(ysum):\n",
    "    def _death2(self):\n",
    "\n",
    "        # this list has an entry for each year after and including the maximum citations ever received (the last time)\n",
    "        # look ahead to the next ten years and take the average\n",
    "        next_year_sums = [\n",
    "            (ycheck, self.sum_between(ycheck, ycheck+9))\n",
    "            for ycheck in range(self.maxcounty, RELIABLE_DATA_ENDS_HERE - 10) \n",
    "        ]\n",
    "\n",
    "        # need to make sure ALL subsequent decade intervals are also less...\n",
    "        my_death_year = None\n",
    "\n",
    "        l = len(next_year_sums)\n",
    "        for i in range(l):\n",
    "            not_this_one = False\n",
    "            for j in range(i,l):\n",
    "                if next_year_sums[j][1] >= self.maxcount:\n",
    "                    not_this_one = True\n",
    "                if not_this_one:\n",
    "                    break\n",
    "\n",
    "            if not_this_one:\n",
    "                continue\n",
    "\n",
    "            my_death_year = next_year_sums[i][0]\n",
    "            break\n",
    "\n",
    "        if not len(next_year_sums):\n",
    "            self.death2 = None\n",
    "        else:\n",
    "            self.death2 = my_death_year\n",
    "\n",
    "        return None\n",
    "    "
   ]
  },
  {
   "cell_type": "code",
   "execution_count": 12,
   "metadata": {
    "execution": {
     "iopub.execute_input": "2020-06-04T19:42:53.804185Z",
     "iopub.status.busy": "2020-06-04T19:42:53.804185Z",
     "iopub.status.idle": "2020-06-04T19:42:53.807178Z",
     "shell.execute_reply": "2020-06-04T19:42:53.806180Z"
    },
    "papermill": {
     "duration": 0.026929,
     "end_time": "2020-06-04T19:42:53.807178",
     "exception": false,
     "start_time": "2020-06-04T19:42:53.780249",
     "status": "completed"
    },
    "tags": []
   },
   "outputs": [],
   "source": [
    "#ysum.addinit(\"_death3\")\n",
    "\n",
    "class ysum(ysum):\n",
    "    def _death3(self):\n",
    "        # DEATH3 is last, as long as it's before RELIABLE_DATA_ENDS_HERE - 10\n",
    "        # no citations in the last 10 years\n",
    "        self.death3 = None\n",
    "        if self.last <= RELIABLE_DATA_ENDS_HERE - 10:\n",
    "            self.death3 = self.last"
   ]
  },
  {
   "cell_type": "code",
   "execution_count": 13,
   "metadata": {
    "execution": {
     "iopub.execute_input": "2020-06-04T19:42:53.855050Z",
     "iopub.status.busy": "2020-06-04T19:42:53.855050Z",
     "iopub.status.idle": "2020-06-04T19:42:53.857044Z",
     "shell.execute_reply": "2020-06-04T19:42:53.857044Z"
    },
    "papermill": {
     "duration": 0.028923,
     "end_time": "2020-06-04T19:42:53.858041",
     "exception": false,
     "start_time": "2020-06-04T19:42:53.829118",
     "status": "completed"
    },
    "tags": []
   },
   "outputs": [],
   "source": [
    "#ysum.addinit(\"_death5\")\n",
    "\n",
    "class ysum(ysum):\n",
    "    def _death5(self):\n",
    "\n",
    "\n",
    "        # DEATH5\n",
    "        # 90% of their citations were received before death4, and it's been at least 30% of their lifespan\n",
    "        myspan = np.array( [self.cits[ comb(dtype, 'fy')][ make_cross({dtype:self.name, 'fy':ycheck}) ] for ycheck in range(1900, 2020)] )\n",
    "\n",
    "        self.death5 = None\n",
    "\n",
    "        Ea = np.sum(myspan)\n",
    "        csum = np.sum(myspan)\n",
    "\n",
    "        nonzeroyears = list(np.where(myspan>0))\n",
    "        if not len(nonzeroyears):\n",
    "            self.death5 = None\n",
    "            return\n",
    "\n",
    "        try:\n",
    "            firsti = np.min(nonzeroyears)\n",
    "        except:\n",
    "            print(\"some strange error, that shouldn't happen, right??\")\n",
    "            return\n",
    "\n",
    "        first_year = firsti + 1900\n",
    "\n",
    "        for cci, cc in enumerate(myspan[firsti:]):\n",
    "\n",
    "            this_year = first_year+cci\n",
    "\n",
    "            # running residual... \n",
    "            Ea -= cc\n",
    "\n",
    "            # don't let them die too soon\n",
    "            if cc == 0:\n",
    "                continue\n",
    "\n",
    "            if Ea/csum < 0.1 and (RELIABLE_DATA_ENDS_HERE - this_year)/(RELIABLE_DATA_ENDS_HERE - first_year) > 0.3:\n",
    "                self.death5 = this_year\n",
    "                break\n"
   ]
  },
  {
   "cell_type": "code",
   "execution_count": 14,
   "metadata": {
    "execution": {
     "iopub.execute_input": "2020-06-04T19:42:53.916883Z",
     "iopub.status.busy": "2020-06-04T19:42:53.908905Z",
     "iopub.status.idle": "2020-06-04T19:42:53.919875Z",
     "shell.execute_reply": "2020-06-04T19:42:53.919875Z"
    },
    "papermill": {
     "duration": 0.039892,
     "end_time": "2020-06-04T19:42:53.919875",
     "exception": false,
     "start_time": "2020-06-04T19:42:53.879983",
     "status": "completed"
    },
    "tags": []
   },
   "outputs": [],
   "source": [
    "if compute_deaths:\n",
    "    ysum.addinit(\"_deathN\")\n",
    "\n",
    "class ysum(ysum):\n",
    "    def _deathN(self):\n",
    "\n",
    "        \n",
    "        \n",
    "        \n",
    "        \n",
    "        def getname(CUTOFF):            \n",
    "            return \"death_%d\"%(CUTOFF*10)\n",
    "        \n",
    "        def getrname(dCUTOFF, rbCUTOFF):            \n",
    "            return \"rebirth_%d_%d\"%(dCUTOFF*10, rbCUTOFF*10)\n",
    "        \n",
    "\n",
    "        # DEATH5\n",
    "        # 90% of their citations/year were received before death4, and it's been at least 30% of their lifespan\n",
    "        \n",
    "        \n",
    "        # preset all deaths as None\n",
    "        for CUTOFF in D_CUTOFFS:\n",
    "            setattr(self, getname(CUTOFF), None)\n",
    "        for dCUTOFF in D_CUTOFFS:\n",
    "            for rbCUTOFF in RB_CUTOFFS:\n",
    "                setattr(self, getrname(dCUTOFF, rbCUTOFF), None)\n",
    "\n",
    "\n",
    "        \n",
    "        for y in range(self.maxcounty + 1, RELIABLE_DATA_ENDS_HERE):            \n",
    "            #if (RELIABLE_DATA_ENDS_HERE - y)/(RELIABLE_DATA_ENDS_HERE - self.first) < 0.3:\n",
    "            #    # eventually we just can't tell anymore...\n",
    "            #    continue\n",
    "            if RELIABLE_DATA_ENDS_HERE - y <= 10:\n",
    "                continue\n",
    "                \n",
    "            # death\n",
    "            \n",
    "                \n",
    "            before = self.sum_between(self.first, y) / (y - self.first)\n",
    "            after = self.sum_between(y,y+10) / 10\n",
    "            \n",
    "            for CUTOFF in D_CUTOFFS:\n",
    "                myname = getname(CUTOFF)\n",
    "                    \n",
    "                if getattr(self, myname) is not None:\n",
    "                    continue\n",
    "                    \n",
    "                if after/before <= CUTOFF:\n",
    "                    setattr(self, myname, y)\n",
    "                    \n",
    "            \n",
    "            \n",
    "            # rebirth\n",
    "            \n",
    "            after = self.sum_between(y,y+10) / 10\n",
    "            \n",
    "            for D_CUTOFF in D_CUTOFFS:\n",
    "                mydname = getname(D_CUTOFF)\n",
    "                \n",
    "                for RB_CUTOFF in RB_CUTOFFS:\n",
    "                    myrname = getrname(D_CUTOFF,RB_CUTOFF)\n",
    "\n",
    "                    mydeath = getattr(self, mydname)\n",
    "\n",
    "                    if mydeath is None: # if there's no death, there can't be a rebirth\n",
    "                        continue\n",
    "                    if not( y >= mydeath+10 ): # at least 10 years dead!\n",
    "                        continue\n",
    "\n",
    "                    before = self.sum_between(self.first, mydeath) / (mydeath - self.first)\n",
    "\n",
    "                    if after/before > RB_CUTOFF:\n",
    "                        if getattr(self, myrname) is None:\n",
    "                            y = min( yy for yy,c in self._c.items() if yy >= y and c > 0  ) # push the rebirth to the next citation...\n",
    "                            \n",
    "                            setattr(self, myrname, y)\n",
    "                    \n",
    "        # label those on the cusp explicitly (look at y=RELIABLE_DATA_ENDS_HERE-10)\n",
    "        # if they wouldn't die that year, mark them as True.\n",
    "        # if they would die in any year after, mark them as None"
   ]
  },
  {
   "cell_type": "markdown",
   "metadata": {
    "papermill": {
     "duration": 0.019947,
     "end_time": "2020-06-04T19:42:53.963758",
     "exception": false,
     "start_time": "2020-06-04T19:42:53.943811",
     "status": "completed"
    },
    "tags": []
   },
   "source": []
  },
  {
   "cell_type": "markdown",
   "metadata": {
    "papermill": {
     "duration": 0.048869,
     "end_time": "2020-06-04T19:42:54.033571",
     "exception": false,
     "start_time": "2020-06-04T19:42:53.984702",
     "status": "completed"
    },
    "tags": []
   },
   "source": [
    "# master loop"
   ]
  },
  {
   "cell_type": "code",
   "execution_count": 15,
   "metadata": {
    "execution": {
     "iopub.execute_input": "2020-06-04T19:42:54.122335Z",
     "iopub.status.busy": "2020-06-04T19:42:54.121337Z",
     "iopub.status.idle": "2020-06-04T19:43:05.495903Z",
     "shell.execute_reply": "2020-06-04T19:43:05.495903Z"
    },
    "papermill": {
     "duration": 11.436401,
     "end_time": "2020-06-04T19:43:05.495903",
     "exception": false,
     "start_time": "2020-06-04T19:42:54.059502",
     "status": "completed"
    },
    "tags": []
   },
   "outputs": [
    {
     "name": "stdout",
     "output_type": "stream",
     "text": [
      "Processing database 'sociology-wos'\n",
      "Item 0\n",
      "defaultdict(<class 'int'>, {})\n",
      "Item 5000\n",
      "Item 10000\n",
      "Item 15000\n",
      "Item 20000\n",
      "Item 25000\n",
      "Item 30000\n",
      "Item 35000\n"
     ]
    }
   ],
   "source": [
    "print(\"Processing database '%s'\"%database_name)\n",
    "\n",
    "mysums = ysums()\n",
    "for ci,item in enumerate(ysum.cy):\n",
    "    \n",
    "    if ci % 5000 == 0:\n",
    "        print(\"Item %s\" % ci)\n",
    "        \n",
    "    if ci % 50000 == 0:\n",
    "        print(mysums.meta)\n",
    "        \n",
    "    #if ci > 10000:\n",
    "    #    break\n",
    "        \n",
    "    res = {}\n",
    "    mysums.meta['at least one citation'] += 1\n",
    "    \n",
    "    if  database_type == 'wos' and dtype == 'c':\n",
    "        sp = item.split(\"|\")\n",
    "        if len(sp) < 2:\n",
    "            mysums.meta['not enough parts'] += 1\n",
    "            continue\n",
    "\n",
    "    mysum = ysum( name=item )\n",
    "\n",
    "    #small error catch\n",
    "    if hasattr(mysum,'pub') and mysum.first < mysum.pub:\n",
    "        mysums.meta['first citation before pub date'] += 1\n",
    "        continue\n",
    "\n",
    "    # don't care about those with only a single citation\n",
    "    if mysum.total <= 1:\n",
    "        mysums.meta['literally 1 citation. dropped.'] += 1\n",
    "        continue\n",
    "\n",
    "    # we really don't care about those that never rise in use\n",
    "    if mysum.first == mysum.maxpropy:\n",
    "        mysums.meta['never rise'] += 1\n",
    "        continue\n",
    "        \n",
    "    mysums.meta['passed tests pre-blacklist'] += 1\n",
    "\n",
    "    \n",
    "    mysums.add(mysum)"
   ]
  },
  {
   "cell_type": "markdown",
   "metadata": {
    "papermill": {
     "duration": 0.022939,
     "end_time": "2020-06-04T19:43:05.541781",
     "exception": false,
     "start_time": "2020-06-04T19:43:05.518842",
     "status": "completed"
    },
    "tags": []
   },
   "source": [
    "# Debugging goes here"
   ]
  },
  {
   "cell_type": "code",
   "execution_count": 16,
   "metadata": {
    "execution": {
     "iopub.execute_input": "2020-06-04T19:43:05.593641Z",
     "iopub.status.busy": "2020-06-04T19:43:05.591647Z",
     "iopub.status.idle": "2020-06-04T19:43:05.600623Z",
     "shell.execute_reply": "2020-06-04T19:43:05.600623Z"
    },
    "papermill": {
     "duration": 0.034907,
     "end_time": "2020-06-04T19:43:05.600623",
     "exception": false,
     "start_time": "2020-06-04T19:43:05.565716",
     "status": "completed"
    },
    "tags": []
   },
   "outputs": [
    {
     "name": "stdout",
     "output_type": "stream",
     "text": [
      "death_0 None\n",
      "death_1 None\n",
      "death_2 None\n",
      "death_3 None\n",
      "death_5 None\n",
      "first 2011\n",
      "last 2017\n",
      "maxcount 2\n",
      "maxcounty 2015\n",
      "maxprop 0.0006754474839581223\n",
      "maxpropy 2015\n",
      "name hooghe, m\n",
      "rebirth_0_10 None\n",
      "rebirth_0_20 None\n",
      "rebirth_0_3 None\n",
      "rebirth_0_5 None\n",
      "rebirth_1_10 None\n",
      "rebirth_1_20 None\n",
      "rebirth_1_3 None\n",
      "rebirth_1_5 None\n",
      "rebirth_2_10 None\n",
      "rebirth_2_20 None\n",
      "rebirth_2_3 None\n",
      "rebirth_2_5 None\n",
      "rebirth_3_10 None\n",
      "rebirth_3_20 None\n",
      "rebirth_3_3 None\n",
      "rebirth_3_5 None\n",
      "rebirth_5_10 None\n",
      "rebirth_5_20 None\n",
      "rebirth_5_3 None\n",
      "rebirth_5_5 None\n",
      "total 6\n",
      "totalprop 0.0020860875658478503\n",
      "----------------------------\n",
      "death_0 None\n",
      "death_1 None\n",
      "death_2 None\n",
      "death_3 None\n",
      "death_5 None\n",
      "first 2011\n",
      "last 2018\n",
      "maxcount 2\n",
      "maxcounty 2013\n",
      "maxprop 0.0006963788300835655\n",
      "maxpropy 2013\n",
      "name gondal, n\n",
      "rebirth_0_10 None\n",
      "rebirth_0_20 None\n",
      "rebirth_0_3 None\n",
      "rebirth_0_5 None\n",
      "rebirth_1_10 None\n",
      "rebirth_1_20 None\n",
      "rebirth_1_3 None\n",
      "rebirth_1_5 None\n",
      "rebirth_2_10 None\n",
      "rebirth_2_20 None\n",
      "rebirth_2_3 None\n",
      "rebirth_2_5 None\n",
      "rebirth_3_10 None\n",
      "rebirth_3_20 None\n",
      "rebirth_3_3 None\n",
      "rebirth_3_5 None\n",
      "rebirth_5_10 None\n",
      "rebirth_5_20 None\n",
      "rebirth_5_3 None\n",
      "rebirth_5_5 None\n",
      "total 6\n",
      "totalprop 0.00210948546559322\n",
      "----------------------------\n",
      "death_0 None\n",
      "death_1 None\n",
      "death_2 None\n",
      "death_3 None\n",
      "death_5 None\n",
      "first 1995\n",
      "last 2016\n",
      "maxcount 3\n",
      "maxcounty 2013\n",
      "maxprop 0.0010445682451253482\n",
      "maxpropy 2013\n",
      "name franzen, a\n",
      "rebirth_0_10 None\n",
      "rebirth_0_20 None\n",
      "rebirth_0_3 None\n",
      "rebirth_0_5 None\n",
      "rebirth_1_10 None\n",
      "rebirth_1_20 None\n",
      "rebirth_1_3 None\n",
      "rebirth_1_5 None\n",
      "rebirth_2_10 None\n",
      "rebirth_2_20 None\n",
      "rebirth_2_3 None\n",
      "rebirth_2_5 None\n",
      "rebirth_3_10 None\n",
      "rebirth_3_20 None\n",
      "rebirth_3_3 None\n",
      "rebirth_3_5 None\n",
      "rebirth_5_10 None\n",
      "rebirth_5_20 None\n",
      "rebirth_5_3 None\n",
      "rebirth_5_5 None\n",
      "total 11\n",
      "totalprop 0.00500903153824101\n",
      "----------------------------\n",
      "death_0 None\n",
      "death_1 None\n",
      "death_2 None\n",
      "death_3 None\n",
      "death_5 1995\n",
      "first 1978\n",
      "last 2015\n",
      "maxcount 2\n",
      "maxcounty 1990\n",
      "maxprop 0.0015048908954100827\n",
      "maxpropy 1990\n",
      "name friedkin, n\n",
      "rebirth_0_10 None\n",
      "rebirth_0_20 None\n",
      "rebirth_0_3 None\n",
      "rebirth_0_5 None\n",
      "rebirth_1_10 None\n",
      "rebirth_1_20 None\n",
      "rebirth_1_3 None\n",
      "rebirth_1_5 None\n",
      "rebirth_2_10 None\n",
      "rebirth_2_20 None\n",
      "rebirth_2_3 None\n",
      "rebirth_2_5 None\n",
      "rebirth_3_10 None\n",
      "rebirth_3_20 None\n",
      "rebirth_3_3 None\n",
      "rebirth_3_5 None\n",
      "rebirth_5_10 None\n",
      "rebirth_5_20 None\n",
      "rebirth_5_3 2009\n",
      "rebirth_5_5 2009\n",
      "total 20\n",
      "totalprop 0.014073701394404638\n",
      "----------------------------\n",
      "death_0 2000\n",
      "death_1 2000\n",
      "death_2 1994\n",
      "death_3 1994\n",
      "death_5 1990\n",
      "first 1982\n",
      "last 2019\n",
      "maxcount 2\n",
      "maxcounty 1989\n",
      "maxprop 0.001444043321299639\n",
      "maxpropy 1989\n",
      "name wallace, m\n",
      "rebirth_0_10 None\n",
      "rebirth_0_20 None\n",
      "rebirth_0_3 None\n",
      "rebirth_0_5 None\n",
      "rebirth_1_10 None\n",
      "rebirth_1_20 None\n",
      "rebirth_1_3 None\n",
      "rebirth_1_5 None\n",
      "rebirth_2_10 None\n",
      "rebirth_2_20 None\n",
      "rebirth_2_3 2011\n",
      "rebirth_2_5 None\n",
      "rebirth_3_10 None\n",
      "rebirth_3_20 None\n",
      "rebirth_3_3 2011\n",
      "rebirth_3_5 None\n",
      "rebirth_5_10 None\n",
      "rebirth_5_20 None\n",
      "rebirth_5_3 2011\n",
      "rebirth_5_5 None\n",
      "total 10\n",
      "totalprop 0.006331034301149077\n",
      "----------------------------\n",
      "death_0 None\n",
      "death_1 None\n",
      "death_2 None\n",
      "death_3 None\n",
      "death_5 None\n",
      "first 2008\n",
      "last 2019\n",
      "maxcount 2\n",
      "maxcounty 2014\n",
      "maxprop 0.0006724949562878278\n",
      "maxpropy 2014\n",
      "name pais, j\n",
      "rebirth_0_10 None\n",
      "rebirth_0_20 None\n",
      "rebirth_0_3 None\n",
      "rebirth_0_5 None\n",
      "rebirth_1_10 None\n",
      "rebirth_1_20 None\n",
      "rebirth_1_3 None\n",
      "rebirth_1_5 None\n",
      "rebirth_2_10 None\n",
      "rebirth_2_20 None\n",
      "rebirth_2_3 None\n",
      "rebirth_2_5 None\n",
      "rebirth_3_10 None\n",
      "rebirth_3_20 None\n",
      "rebirth_3_3 None\n",
      "rebirth_3_5 None\n",
      "rebirth_5_10 None\n",
      "rebirth_5_20 None\n",
      "rebirth_5_3 None\n",
      "rebirth_5_5 None\n",
      "total 7\n",
      "totalprop 0.0025622212558883807\n",
      "----------------------------\n",
      "death_0 None\n",
      "death_1 None\n",
      "death_2 None\n",
      "death_3 None\n",
      "death_5 None\n",
      "first 2000\n",
      "last 2012\n",
      "maxcount 2\n",
      "maxcounty 2011\n",
      "maxprop 0.0012062726176115801\n",
      "maxpropy 2001\n",
      "name crowder, k\n",
      "rebirth_0_10 None\n",
      "rebirth_0_20 None\n",
      "rebirth_0_3 None\n",
      "rebirth_0_5 None\n",
      "rebirth_1_10 None\n",
      "rebirth_1_20 None\n",
      "rebirth_1_3 None\n",
      "rebirth_1_5 None\n",
      "rebirth_2_10 None\n",
      "rebirth_2_20 None\n",
      "rebirth_2_3 None\n",
      "rebirth_2_5 None\n",
      "rebirth_3_10 None\n",
      "rebirth_3_20 None\n",
      "rebirth_3_3 None\n",
      "rebirth_3_5 None\n",
      "rebirth_5_10 None\n",
      "rebirth_5_20 None\n",
      "rebirth_5_3 None\n",
      "rebirth_5_5 None\n",
      "total 11\n",
      "totalprop 0.005646195842509818\n",
      "----------------------------\n",
      "death_0 None\n",
      "death_1 None\n",
      "death_2 None\n",
      "death_3 None\n",
      "death_5 None\n",
      "first 2001\n",
      "last 2015\n",
      "maxcount 3\n",
      "maxcounty 2011\n",
      "maxprop 0.0017657445556209534\n",
      "maxpropy 2007\n",
      "name alon, s\n",
      "rebirth_0_10 None\n",
      "rebirth_0_20 None\n",
      "rebirth_0_3 None\n",
      "rebirth_0_5 None\n",
      "rebirth_1_10 None\n",
      "rebirth_1_20 None\n",
      "rebirth_1_3 None\n",
      "rebirth_1_5 None\n",
      "rebirth_2_10 None\n",
      "rebirth_2_20 None\n",
      "rebirth_2_3 None\n",
      "rebirth_2_5 None\n",
      "rebirth_3_10 None\n",
      "rebirth_3_20 None\n",
      "rebirth_3_3 None\n",
      "rebirth_3_5 None\n",
      "rebirth_5_10 None\n",
      "rebirth_5_20 None\n",
      "rebirth_5_3 None\n",
      "rebirth_5_5 None\n",
      "total 12\n",
      "totalprop 0.0059347316201944856\n",
      "----------------------------\n",
      "death_0 None\n",
      "death_1 None\n",
      "death_2 None\n",
      "death_3 None\n",
      "death_5 None\n",
      "first 1998\n",
      "last 2016\n",
      "maxcount 2\n",
      "maxcounty 2005\n",
      "maxprop 0.0011813349084465446\n",
      "maxpropy 2005\n",
      "name carbonaro, w\n",
      "rebirth_0_10 None\n",
      "rebirth_0_20 None\n",
      "rebirth_0_3 None\n",
      "rebirth_0_5 None\n",
      "rebirth_1_10 None\n",
      "rebirth_1_20 None\n",
      "rebirth_1_3 None\n",
      "rebirth_1_5 None\n",
      "rebirth_2_10 None\n",
      "rebirth_2_20 None\n",
      "rebirth_2_3 None\n",
      "rebirth_2_5 None\n",
      "rebirth_3_10 None\n",
      "rebirth_3_20 None\n",
      "rebirth_3_3 None\n",
      "rebirth_3_5 None\n",
      "rebirth_5_10 None\n",
      "rebirth_5_20 None\n",
      "rebirth_5_3 None\n",
      "rebirth_5_5 None\n",
      "total 8\n",
      "totalprop 0.0039172848209811165\n",
      "----------------------------\n",
      "death_0 None\n",
      "death_1 None\n",
      "death_2 None\n",
      "death_3 None\n",
      "death_5 None\n",
      "first 1990\n",
      "last 2018\n",
      "maxcount 2\n",
      "maxcounty 2018\n",
      "maxprop 0.0014705882352941176\n",
      "maxpropy 1991\n",
      "name sherkat, d\n",
      "rebirth_0_10 None\n",
      "rebirth_0_20 None\n",
      "rebirth_0_3 None\n",
      "rebirth_0_5 None\n",
      "rebirth_1_10 None\n",
      "rebirth_1_20 None\n",
      "rebirth_1_3 None\n",
      "rebirth_1_5 None\n",
      "rebirth_2_10 None\n",
      "rebirth_2_20 None\n",
      "rebirth_2_3 None\n",
      "rebirth_2_5 None\n",
      "rebirth_3_10 None\n",
      "rebirth_3_20 None\n",
      "rebirth_3_3 None\n",
      "rebirth_3_5 None\n",
      "rebirth_5_10 None\n",
      "rebirth_5_20 None\n",
      "rebirth_5_3 None\n",
      "rebirth_5_5 None\n",
      "total 21\n",
      "totalprop 0.012290534637626072\n",
      "----------------------------\n"
     ]
    }
   ],
   "source": [
    "for ys in mysums.ysums[:10]:\n",
    "    dd = ys.dump()\n",
    "    for k in sorted(dd):\n",
    "        print(k, dd[k])\n",
    "        \n",
    "    print(\"----------------------------\")"
   ]
  },
  {
   "cell_type": "code",
   "execution_count": 17,
   "metadata": {
    "execution": {
     "iopub.execute_input": "2020-06-04T19:43:05.660462Z",
     "iopub.status.busy": "2020-06-04T19:43:05.659465Z",
     "iopub.status.idle": "2020-06-04T19:43:05.662457Z",
     "shell.execute_reply": "2020-06-04T19:43:05.662457Z"
    },
    "papermill": {
     "duration": 0.035904,
     "end_time": "2020-06-04T19:43:05.662457",
     "exception": false,
     "start_time": "2020-06-04T19:43:05.626553",
     "status": "completed"
    },
    "tags": []
   },
   "outputs": [],
   "source": [
    "for i in range(0,10):\n",
    "    rbname = \"rebirth_5_%s\" % i\n",
    "    for x in mysums.ysums:\n",
    "        if not hasattr(x,rbname):\n",
    "            setattr(x,rbname,None)"
   ]
  },
  {
   "cell_type": "code",
   "execution_count": 18,
   "metadata": {
    "execution": {
     "iopub.execute_input": "2020-06-04T19:43:05.715316Z",
     "iopub.status.busy": "2020-06-04T19:43:05.715316Z",
     "iopub.status.idle": "2020-06-04T19:43:05.718308Z",
     "shell.execute_reply": "2020-06-04T19:43:05.718308Z"
    },
    "papermill": {
     "duration": 0.027926,
     "end_time": "2020-06-04T19:43:05.718308",
     "exception": false,
     "start_time": "2020-06-04T19:43:05.690382",
     "status": "completed"
    },
    "tags": []
   },
   "outputs": [
    {
     "data": {
      "text/plain": [
       "['death_0',\n",
       " 'death_1',\n",
       " 'death_2',\n",
       " 'death_3',\n",
       " 'death_5',\n",
       " 'first',\n",
       " 'last',\n",
       " 'maxcount',\n",
       " 'maxcounty',\n",
       " 'maxprop',\n",
       " 'maxpropy',\n",
       " 'name',\n",
       " 'rebirth_0_10',\n",
       " 'rebirth_0_20',\n",
       " 'rebirth_0_3',\n",
       " 'rebirth_0_5',\n",
       " 'rebirth_1_10',\n",
       " 'rebirth_1_20',\n",
       " 'rebirth_1_3',\n",
       " 'rebirth_1_5',\n",
       " 'rebirth_2_10',\n",
       " 'rebirth_2_20',\n",
       " 'rebirth_2_3',\n",
       " 'rebirth_2_5',\n",
       " 'rebirth_3_10',\n",
       " 'rebirth_3_20',\n",
       " 'rebirth_3_3',\n",
       " 'rebirth_3_5',\n",
       " 'rebirth_5_0',\n",
       " 'rebirth_5_1',\n",
       " 'rebirth_5_10',\n",
       " 'rebirth_5_2',\n",
       " 'rebirth_5_20',\n",
       " 'rebirth_5_3',\n",
       " 'rebirth_5_4',\n",
       " 'rebirth_5_5',\n",
       " 'rebirth_5_6',\n",
       " 'rebirth_5_7',\n",
       " 'rebirth_5_8',\n",
       " 'rebirth_5_9',\n",
       " 'total',\n",
       " 'totalprop']"
      ]
     },
     "execution_count": 18,
     "metadata": {},
     "output_type": "execute_result"
    }
   ],
   "source": [
    "sorted(mysums.ysums[0].dump())"
   ]
  },
  {
   "cell_type": "code",
   "execution_count": 19,
   "metadata": {
    "execution": {
     "iopub.execute_input": "2020-06-04T19:43:05.768174Z",
     "iopub.status.busy": "2020-06-04T19:43:05.768174Z",
     "iopub.status.idle": "2020-06-04T19:43:05.771167Z",
     "shell.execute_reply": "2020-06-04T19:43:05.771167Z"
    },
    "papermill": {
     "duration": 0.028923,
     "end_time": "2020-06-04T19:43:05.771167",
     "exception": false,
     "start_time": "2020-06-04T19:43:05.742244",
     "status": "completed"
    },
    "tags": []
   },
   "outputs": [
    {
     "data": {
      "text/plain": [
       "159"
      ]
     },
     "execution_count": 19,
     "metadata": {},
     "output_type": "execute_result"
    }
   ],
   "source": [
    "sum(x.rebirth_5_3 is not None for x in mysums.ysums)"
   ]
  },
  {
   "cell_type": "code",
   "execution_count": 20,
   "metadata": {
    "execution": {
     "iopub.execute_input": "2020-06-04T19:43:05.827017Z",
     "iopub.status.busy": "2020-06-04T19:43:05.827017Z",
     "iopub.status.idle": "2020-06-04T19:43:05.830009Z",
     "shell.execute_reply": "2020-06-04T19:43:05.830009Z"
    },
    "papermill": {
     "duration": 0.028923,
     "end_time": "2020-06-04T19:43:05.830009",
     "exception": false,
     "start_time": "2020-06-04T19:43:05.801086",
     "status": "completed"
    },
    "tags": []
   },
   "outputs": [
    {
     "name": "stdout",
     "output_type": "stream",
     "text": [
      "defaultdict(<class 'int'>, {'at least one citation': 39031, 'literally 1 citation. dropped.': 24226, 'passed tests pre-blacklist': 2911, 'never rise': 11894})\n"
     ]
    }
   ],
   "source": [
    "print(mysums.meta)"
   ]
  },
  {
   "cell_type": "code",
   "execution_count": 21,
   "metadata": {
    "execution": {
     "iopub.execute_input": "2020-06-04T19:43:05.905806Z",
     "iopub.status.busy": "2020-06-04T19:43:05.904809Z",
     "iopub.status.idle": "2020-06-04T19:43:05.907800Z",
     "shell.execute_reply": "2020-06-04T19:43:05.907800Z"
    },
    "papermill": {
     "duration": 0.054853,
     "end_time": "2020-06-04T19:43:05.907800",
     "exception": false,
     "start_time": "2020-06-04T19:43:05.852947",
     "status": "completed"
    },
    "tags": []
   },
   "outputs": [],
   "source": [
    "if False:\n",
    "    mysum_final = pd.DataFrame.from_records( list(x.dump() for x in mysums.ysums) )\n",
    "    mysum_final.shape\n",
    "    \n",
    "if True:\n",
    "    mysum_final = {}\n",
    "    for x in mysums.ysums:\n",
    "        dp = x.dump()\n",
    "        mysum_final[dp['name']] = dp"
   ]
  },
  {
   "cell_type": "code",
   "execution_count": 22,
   "metadata": {
    "execution": {
     "iopub.execute_input": "2020-06-04T19:43:05.956671Z",
     "iopub.status.busy": "2020-06-04T19:43:05.955674Z",
     "iopub.status.idle": "2020-06-04T19:43:05.966644Z",
     "shell.execute_reply": "2020-06-04T19:43:05.966644Z"
    },
    "papermill": {
     "duration": 0.034907,
     "end_time": "2020-06-04T19:43:05.966644",
     "exception": false,
     "start_time": "2020-06-04T19:43:05.931737",
     "status": "completed"
    },
    "tags": []
   },
   "outputs": [],
   "source": [
    "varname = \"%s.%s.ysum\"%(database_name,dtype)\n",
    "save_variable(varname, mysum_final)"
   ]
  },
  {
   "cell_type": "markdown",
   "metadata": {
    "papermill": {
     "duration": 0.021941,
     "end_time": "2020-06-04T19:43:06.013518",
     "exception": false,
     "start_time": "2020-06-04T19:43:05.991577",
     "status": "completed"
    },
    "tags": []
   },
   "source": [
    "# only necessary if you plan on filtering based on this set"
   ]
  },
  {
   "cell_type": "code",
   "execution_count": 23,
   "metadata": {
    "execution": {
     "iopub.execute_input": "2020-06-04T19:43:06.063385Z",
     "iopub.status.busy": "2020-06-04T19:43:06.063385Z",
     "iopub.status.idle": "2020-06-04T19:43:06.067374Z",
     "shell.execute_reply": "2020-06-04T19:43:06.067374Z"
    },
    "papermill": {
     "duration": 0.030918,
     "end_time": "2020-06-04T19:43:06.067374",
     "exception": false,
     "start_time": "2020-06-04T19:43:06.036456",
     "status": "completed"
    },
    "tags": []
   },
   "outputs": [],
   "source": [
    "if True:\n",
    "    save_variable(\"%s.included_citations\"%database_name, set(x.name for x in mysums.ysums))"
   ]
  }
 ],
 "metadata": {
  "kernelspec": {
   "display_name": "Python 3",
   "language": "python",
   "name": "python3"
  },
  "language_info": {
   "codemirror_mode": {
    "name": "ipython",
    "version": 3
   },
   "file_extension": ".py",
   "mimetype": "text/x-python",
   "name": "python",
   "nbconvert_exporter": "python",
   "pygments_lexer": "ipython3",
   "version": "3.7.5"
  },
  "papermill": {
   "duration": 16.237555,
   "end_time": "2020-06-04T19:43:06.244899",
   "environment_variables": {},
   "exception": null,
   "input_path": "G:\\My Drive\\projects\\qualitative analysis of literature\\post 5-12-2020\\git repository _ citation-deaths\\knowknow\\creating variables\\ysum - computing temporal summaries.ipynb",
   "output_path": "G:\\My Drive\\projects\\qualitative analysis of literature\\post 5-12-2020\\git repository _ citation-deaths\\knowknow\\creating variables\\ysum - computing temporal summaries.ipynb",
   "parameters": {
    "database_name": "sociology-wos",
    "dtype": "ffa"
   },
   "start_time": "2020-06-04T19:42:50.007344",
   "version": "2.1.1"
  }
 },
 "nbformat": 4,
 "nbformat_minor": 4
}
