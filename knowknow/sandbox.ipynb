{
 "cells": [
  {
   "cell_type": "code",
   "execution_count": 3,
   "metadata": {},
   "outputs": [],
   "source": [
    "import sys; sys.path.append(_dh[0].split(\"knowknow\")[0])\n",
    "from knowknow import *"
   ]
  },
  {
   "cell_type": "code",
   "execution_count": 4,
   "metadata": {},
   "outputs": [
    {
     "name": "stdout",
     "output_type": "stream",
     "text": [
      "Loaded keys: dict_keys(['fy', 'fj'])\n",
      "Available keys: ['a', 'c', 'c.c', 'c.fj', 'c.fy', 'c.fy.j', 'fa', 'fa.c', 'fa.fj', 'fa.fj.fy', 'fa.fy', 'ffa', 'ffa.c', 'ffa.fj', 'ffa.fy', 'fj', 'fj.fy', 'fj.ta', 'fj.ty', 'fy', 'fy.ta', 'fy.ty', 'ta', 'ty', 'ty.ty']\n"
     ]
    }
   ],
   "source": [
    "cntall = get_cnt(\"sociology-wos.doc\", ['fy','fj'])"
   ]
  },
  {
   "cell_type": "code",
   "execution_count": 17,
   "metadata": {},
   "outputs": [
    {
     "data": {
      "text/plain": [
       "312"
      ]
     },
     "execution_count": 17,
     "metadata": {},
     "output_type": "execute_result"
    }
   ],
   "source": [
    "len(cntall['fj'].values())"
   ]
  },
  {
   "cell_type": "code",
   "execution_count": 58,
   "metadata": {},
   "outputs": [
    {
     "name": "stdout",
     "output_type": "stream",
     "text": [
      "['c', 'fa', 'fj', 'fy', 'j', 'ta', 'ty']\n"
     ]
    }
   ],
   "source": [
    "print(sorted(set(chain.from_iterable(\n",
    "    x.split('.')\n",
    "    for x in ['c', 'c.c', 'c.fj', 'c.fy', 'c.fy.j', 'fa', 'fa.c', 'fa.fj', 'fa.fj.fy', 'fa.fy', 'fj', 'fj.fy', 'fj.ta', 'fj.ty', 'fy', 'fy.ta', 'fy.ty', 'ta', 'ty', 'ty.ty']\n",
    "))))"
   ]
  },
  {
   "cell_type": "code",
   "execution_count": 4,
   "metadata": {},
   "outputs": [
    {
     "ename": "NameError",
     "evalue": "name 'cits' is not defined",
     "output_type": "error",
     "traceback": [
      "\u001b[1;31m---------------------------------------------------------------------------\u001b[0m",
      "\u001b[1;31mNameError\u001b[0m                                 Traceback (most recent call last)",
      "\u001b[1;32m<ipython-input-4-5acc75617131>\u001b[0m in \u001b[0;36m<module>\u001b[1;34m\u001b[0m\n\u001b[1;32m----> 1\u001b[1;33m \u001b[0mcits\u001b[0m\u001b[1;33m\u001b[0m\u001b[1;33m\u001b[0m\u001b[0m\n\u001b[0m",
      "\u001b[1;31mNameError\u001b[0m: name 'cits' is not defined"
     ]
    }
   ],
   "source": [
    "cits"
   ]
  },
  {
   "cell_type": "code",
   "execution_count": 59,
   "metadata": {},
   "outputs": [
    {
     "data": {
      "text/plain": [
       "{'total': 4,\n",
       " 'maxcount': 2,\n",
       " 'first': 2008,\n",
       " 'maxcounty': 2011,\n",
       " 'death_4': None,\n",
       " 'death_8': None,\n",
       " 'maxpropy': 2011,\n",
       " 'death_9': None,\n",
       " 'death_max': None,\n",
       " 'death_7': None,\n",
       " 'death_last': None,\n",
       " 'totalprop': 0.0017142717933904491,\n",
       " 'last': 2011,\n",
       " 'death_1': None,\n",
       " 'maxprop': 0.0007550018875047187,\n",
       " 'death_3': None,\n",
       " 'death_5': None,\n",
       " 'death_2': None,\n",
       " 'death_6': None,\n",
       " 'name': 'mellor, d'}"
      ]
     },
     "execution_count": 59,
     "metadata": {},
     "output_type": "execute_result"
    }
   ],
   "source": [
    "list(ysum.values())[0]"
   ]
  },
  {
   "cell_type": "code",
   "execution_count": 54,
   "metadata": {},
   "outputs": [
    {
     "name": "stdout",
     "output_type": "stream",
     "text": [
      "[c] [c.c] [c.fj] [c.fy] [c.fy.j] [fa] [fa.c] [fa.fj] [fa.fj.fy] [fa.fy] [fj] [fj.fy] [fj.ta] [fj.ty] [fy] [fy.ta] [fy.ty] [ta] [ty] [ty.ty]\n"
     ]
    }
   ],
   "source": [
    "print(\" \".join(\"[%s]\"%x for x in ['c', 'c.c', 'c.fj', 'c.fy', 'c.fy.j', 'fa', 'fa.c', 'fa.fj', 'fa.fj.fy', 'fa.fy', 'fj', 'fj.fy', 'fj.ta', 'fj.ty', 'fy', 'fy.ta', 'fy.ty', 'ta', 'ty', 'ty.ty']))"
   ]
  },
  {
   "cell_type": "code",
   "execution_count": 3,
   "metadata": {},
   "outputs": [
    {
     "name": "stdout",
     "output_type": "stream",
     "text": [
      "Loaded keys: dict_keys(['fy', 'c.fy', 'c', 'c.fj', 'fj.fy', 'ta', 'fa', 'fa.fy', 'fj'])\n",
      "Available keys: ['c', 'c.c', 'c.fj', 'c.fy', 'c.fy.j', 'fa', 'fa.c', 'fa.fj', 'fa.fj.fy', 'fa.fy', 'fj', 'fj.fy', 'fj.ta', 'fj.ty', 'fy', 'fy.ta', 'fy.ty', 'ta', 'ty', 'ty.ty']\n",
      "Loaded keys: dict_keys(['fy', 'c.fy', 'c', 'c.fj', 'fj.fy', 'ta', 'fa', 'fa.fy', 'fj'])\n",
      "Available keys: ['a', 'c', 'c.c', 'c.fj', 'c.fy', 'c.fy.j', 'fa', 'fa.c', 'fa.fj', 'fa.fj.fy', 'fa.fy', 'fj', 'fj.fy', 'fj.ta', 'fj.ty', 'fy', 'fy.ta', 'fy.ty', 'ta', 'ty', 'ty.ty']\n"
     ]
    }
   ],
   "source": [
    "cnti = get_cnt(\"sociology-wos.ind\", ['fy','c.fy','c','c.fj','fj.fy','ta','fa', 'fa.fy','fj'])\n",
    "cntd = get_cnt(\"sociology-wos.doc\", ['fy','c.fy','c','c.fj','fj.fy','ta','fa', 'fa.fy','fj'])"
   ]
  },
  {
   "cell_type": "code",
   "execution_count": 76,
   "metadata": {},
   "outputs": [
    {
     "data": {
      "text/plain": [
       "1381075"
      ]
     },
     "execution_count": 76,
     "metadata": {},
     "output_type": "execute_result"
    }
   ],
   "source": [
    "sum(cntd['c'].values())"
   ]
  },
  {
   "cell_type": "code",
   "execution_count": 60,
   "metadata": {},
   "outputs": [],
   "source": [
    "ysum = load_variable(\"sociology-wos.c.ysum\")"
   ]
  },
  {
   "cell_type": "code",
   "execution_count": 61,
   "metadata": {},
   "outputs": [
    {
     "data": {
      "text/plain": [
       "106628"
      ]
     },
     "execution_count": 61,
     "metadata": {},
     "output_type": "execute_result"
    }
   ],
   "source": [
    "len(ysum)"
   ]
  },
  {
   "cell_type": "code",
   "execution_count": 65,
   "metadata": {},
   "outputs": [
    {
     "data": {
      "text/plain": [
       "0.7054974553995862"
      ]
     },
     "execution_count": 65,
     "metadata": {},
     "output_type": "execute_result"
    }
   ],
   "source": [
    "len([x for x in ysum.values() if x['pub']<1980 and x['death_0'] is not None])/len([x for x in ysum.values() if x['pub']<1980])"
   ]
  },
  {
   "cell_type": "code",
   "execution_count": 68,
   "metadata": {},
   "outputs": [
    {
     "data": {
      "text/plain": [
       "0.33960621761658033"
      ]
     },
     "execution_count": 68,
     "metadata": {},
     "output_type": "execute_result"
    }
   ],
   "source": [
    "len([x for x in ysum.values() if 1990<=x['pub']<2000 and x['death_3'] is not None])/len([x for x in ysum.values() if 1990<=x['pub']<2000])"
   ]
  },
  {
   "cell_type": "code",
   "execution_count": 59,
   "metadata": {},
   "outputs": [
    {
     "data": {
      "text/plain": [
       "<matplotlib.legend.Legend at 0x2521150cdc8>"
      ]
     },
     "execution_count": 59,
     "metadata": {},
     "output_type": "execute_result"
    },
    {
     "data": {
      "image/png": "[encoded data removed]",
      "text/plain": [
       "<Figure size 432x288 with 1 Axes>"
      ]
     },
     "metadata": {},
     "output_type": "display_data"
    }
   ],
   "source": [
    "for typ in ['c','ta','fa']:\n",
    "\n",
    "    ysum = load_variable(\"sociology-wos.%s.ysum\"%typ)\n",
    "\n",
    "    cc = Counter([x['death_3'] for x in ysum.values() if x['death_3'] is not None and x['total']>5])\n",
    "    years = range(1960,2010,1)\n",
    "\n",
    "    plt.plot(\n",
    "        years,\n",
    "        [cc[y] for y in years],\n",
    "        label=typ\n",
    "    )\n",
    "    \n",
    "plt.legend()"
   ]
  },
  {
   "cell_type": "code",
   "execution_count": 17,
   "metadata": {},
   "outputs": [
    {
     "data": {
      "text/plain": [
       "511"
      ]
     },
     "execution_count": 17,
     "metadata": {},
     "output_type": "execute_result"
    }
   ],
   "source": [
    "len(set([cross.fa for cross, count in cntd['fa.fy'].items() if 1970 <= cross.fy < 1975 and cross.fa in ysum]))"
   ]
  },
  {
   "cell_type": "code",
   "execution_count": 38,
   "metadata": {},
   "outputs": [],
   "source": [
    "s = [ len(set(\n",
    "    cross.fa\n",
    "    for cross, count in cntd['fa.fy'].items()\n",
    "    if cntd['fa'][(cross.fa,)] == 1\n",
    "    and Y <= cross.fy < Y+5\n",
    "))  / len(set( cross.fa for cross, count in cntd['fa.fy'].items() if Y <= cross.fy < Y+5 ))\n",
    "     for Y in range(1960,2015,5) ]"
   ]
  },
  {
   "cell_type": "code",
   "execution_count": 39,
   "metadata": {},
   "outputs": [
    {
     "data": {
      "text/plain": [
       "[0.25925925925925924,\n",
       " 0.2676136363636364,\n",
       " 0.2884486232370719,\n",
       " 0.29568497995755716,\n",
       " 0.29310980103168754,\n",
       " 0.2860098678975012,\n",
       " 0.3038234891051117,\n",
       " 0.3172647094357859,\n",
       " 0.32481407772075,\n",
       " 0.343436894838764,\n",
       " 0.40822501120573734]"
      ]
     },
     "execution_count": 39,
     "metadata": {},
     "output_type": "execute_result"
    }
   ],
   "source": [
    "s"
   ]
  },
  {
   "cell_type": "code",
   "execution_count": 40,
   "metadata": {},
   "outputs": [
    {
     "data": {
      "text/plain": [
       "[<matplotlib.lines.Line2D at 0x2520f378488>]"
      ]
     },
     "execution_count": 40,
     "metadata": {},
     "output_type": "execute_result"
    },
    {
     "data": {
      "image/png": "[encoded data removed]",
      "text/plain": [
       "<Figure size 432x288 with 1 Axes>"
      ]
     },
     "metadata": {},
     "output_type": "display_data"
    }
   ],
   "source": [
    "plt.plot(s)"
   ]
  },
  {
   "cell_type": "code",
   "execution_count": 29,
   "metadata": {},
   "outputs": [
    {
     "data": {
      "text/plain": [
       "0.614977554965759"
      ]
     },
     "execution_count": 29,
     "metadata": {},
     "output_type": "execute_result"
    }
   ],
   "source": [
    "37537/61038"
   ]
  },
  {
   "cell_type": "code",
   "execution_count": 51,
   "metadata": {},
   "outputs": [],
   "source": []
  },
  {
   "cell_type": "code",
   "execution_count": 62,
   "metadata": {},
   "outputs": [
    {
     "data": {
      "text/plain": [
       "['bogue|skid row am cities',\n",
       " 'bogue|structure metropolit',\n",
       " 'bogue|study population',\n",
       " 'bogue|state ec areas',\n",
       " 'bogue|comp population urba',\n",
       " 'bogue|components populatio',\n",
       " 'bogue|comparative populati',\n",
       " 'bogue|metropolitan decentr']"
      ]
     },
     "execution_count": 62,
     "metadata": {},
     "output_type": "execute_result"
    }
   ],
   "source": [
    "[x for x in ysum if 'bogue' in x]"
   ]
  },
  {
   "cell_type": "code",
   "execution_count": 61,
   "metadata": {},
   "outputs": [
    {
     "ename": "KeyError",
     "evalue": "'bogue|1959'",
     "output_type": "error",
     "traceback": [
      "\u001b[1;31m---------------------------------------------------------------------------\u001b[0m",
      "\u001b[1;31mKeyError\u001b[0m                                  Traceback (most recent call last)",
      "\u001b[1;32m<ipython-input-61-c5bb9cbc0833>\u001b[0m in \u001b[0;36m<module>\u001b[1;34m\u001b[0m\n\u001b[1;32m----> 1\u001b[1;33m \u001b[0mysum\u001b[0m\u001b[1;33m[\u001b[0m\u001b[1;34m'bogue|1959'\u001b[0m\u001b[1;33m]\u001b[0m\u001b[1;33m\u001b[0m\u001b[1;33m\u001b[0m\u001b[0m\n\u001b[0m",
      "\u001b[1;31mKeyError\u001b[0m: 'bogue|1959'"
     ]
    }
   ],
   "source": [
    "ysum['bogue|1959']"
   ]
  },
  {
   "cell_type": "markdown",
   "metadata": {},
   "source": [
    "# demo authors"
   ]
  },
  {
   "cell_type": "code",
   "execution_count": 19,
   "metadata": {},
   "outputs": [],
   "source": [
    "ysum = load_variable(\"sociology-wos.fa.ysum\")"
   ]
  },
  {
   "cell_type": "code",
   "execution_count": 32,
   "metadata": {},
   "outputs": [
    {
     "data": {
      "text/plain": [
       "{'total': 4,\n",
       " 'maxcount': 2,\n",
       " 'first': 2008,\n",
       " 'maxcounty': 2011,\n",
       " 'death_4': None,\n",
       " 'death_8': None,\n",
       " 'maxpropy': 2011,\n",
       " 'death_9': None,\n",
       " 'death_max': None,\n",
       " 'death_7': None,\n",
       " 'death_last': None,\n",
       " 'totalprop': 0.0017142717933904491,\n",
       " 'last': 2011,\n",
       " 'death_1': None,\n",
       " 'maxprop': 0.0007550018875047187,\n",
       " 'death_3': None,\n",
       " 'death_5': None,\n",
       " 'death_2': None,\n",
       " 'death_6': None,\n",
       " 'name': 'mellor, d'}"
      ]
     },
     "execution_count": 32,
     "metadata": {},
     "output_type": "execute_result"
    }
   ],
   "source": [
    "list(ysum.values())[0]"
   ]
  },
  {
   "cell_type": "code",
   "execution_count": 40,
   "metadata": {},
   "outputs": [
    {
     "name": "stdout",
     "output_type": "stream",
     "text": [
      " H Becker (74 years, 36 publications)\n",
      " N Demerath (59 years, 18 publications)\n",
      " N Babchuk (52 years, 21 publications)\n",
      " I Deutscher (50 years, 10 publications)\n",
      " C Coughenour (49 years, 17 publications)\n",
      " M Field (49 years, 5 publications)\n",
      " A Inkeles (49 years, 14 publications)\n",
      " W Firey (49 years, 10 publications)\n",
      " P Cutright (48 years, 24 publications)\n",
      " A Kerckhoff (48 years, 28 publications)\n"
     ]
    }
   ],
   "source": [
    "for x in sorted( ysum.values(), key=lambda x: -(x['death_1'] - x['first']) if x['death_1'] is not None else 0 )[:10]:\n",
    "    #print(x['total'], x['name'], x['death_1']-x['first'], x['first'], x['death_1'], sum( cntd['fa.fy'][(x['name'], y)] for y in range(2000,2020)))\n",
    "    print( \"%s (%s years, %s publications)\" % (\n",
    "        \" \".join(reversed(x['name'].split(\",\"))).title(),\n",
    "        x['death_1']-x['first'],\n",
    "        x['total']\n",
    "    ) )"
   ]
  },
  {
   "cell_type": "code",
   "execution_count": 41,
   "metadata": {},
   "outputs": [
    {
     "name": "stdout",
     "output_type": "stream",
     "text": [
      "pearson, r 1926 None 1 3\n",
      "white, r 1931 None 10 20\n",
      "bernard, j 1933 None 4 18\n",
      "smith, t 1936 2008 10 51\n",
      "hughes, e 1936 None 2 10\n",
      "davis, k 1937 None 10 25\n",
      "taylor, c 1938 None 10 18\n",
      "mills, c 1939 None 12 23\n",
      "davis, a 1940 None 17 32\n",
      "schneider, j 1940 None 8 18\n"
     ]
    }
   ],
   "source": [
    "for x in sorted( ysum.values(), key=lambda x: -(x['death_6'] - x['first']) if x['death_4'] is not None else -(2010-x['first']) )[:10]:\n",
    "    print(x['name'], x['first'], x['death_6'], sum( cntd['fa.fy'][(x['name'], y)] for y in range(2000,2020)), x['total'])"
   ]
  },
  {
   "cell_type": "markdown",
   "metadata": {},
   "source": [
    "# demo works"
   ]
  },
  {
   "cell_type": "code",
   "execution_count": 3,
   "metadata": {},
   "outputs": [],
   "source": [
    "ysum = load_variable(\"sociology-wos.c.ysum\")"
   ]
  },
  {
   "cell_type": "code",
   "execution_count": 38,
   "metadata": {},
   "outputs": [
    {
     "data": {
      "text/plain": [
       "2904"
      ]
     },
     "execution_count": 38,
     "metadata": {},
     "output_type": "execute_result"
    }
   ],
   "source": [
    "sum(cnti['fy'][(y,)] for y in range(1880,1950))"
   ]
  },
  {
   "cell_type": "code",
   "execution_count": null,
   "metadata": {},
   "outputs": [],
   "source": [
    "cntd['fa'][()]"
   ]
  },
  {
   "cell_type": "code",
   "execution_count": 19,
   "metadata": {},
   "outputs": [
    {
     "data": {
      "text/plain": [
       "50.71226591260737"
      ]
     },
     "execution_count": 19,
     "metadata": {},
     "output_type": "execute_result"
    }
   ],
   "source": [
    "# what percent are dead1 from before 1980?\n",
    "100 * len([1 for x in ysum.values() if 2000 > x['first'] >= 1990 and x['death_3'] is not None]) / \\\n",
    "    len([1 for x in ysum.values() if 2000 > x['first'] >= 1990])"
   ]
  },
  {
   "cell_type": "code",
   "execution_count": 16,
   "metadata": {},
   "outputs": [
    {
     "data": {
      "text/plain": [
       "72.8737934802404"
      ]
     },
     "execution_count": 16,
     "metadata": {},
     "output_type": "execute_result"
    }
   ],
   "source": [
    "# what percent are dead1 from before 1980?\n",
    "100 * len([1 for x in ysum.values() if x['first'] < 1980 and x['death_last'] is not None]) / \\\n",
    "    len([1 for x in ysum.values() if x['first'] < 1980])"
   ]
  },
  {
   "cell_type": "code",
   "execution_count": null,
   "metadata": {},
   "outputs": [],
   "source": [
    "# what percent are dead1 from before 1980?\n",
    "100 * len([1 for x in ysum.values() if x['first'] < 1980 and x['death_1'] is not None]) / \\\n",
    "    len([1 for x in ysum.values() if x['first'] < 1980])"
   ]
  },
  {
   "cell_type": "code",
   "execution_count": 9,
   "metadata": {},
   "outputs": [
    {
     "data": {
      "text/plain": [
       "45.5711915794291"
      ]
     },
     "execution_count": 9,
     "metadata": {},
     "output_type": "execute_result"
    }
   ],
   "source": [
    "# what percent has at least 5 citations\n",
    "100 * len([ 1 for _,count in cntd['c'].items() if count >= 5 ]) / len(cntd['c'])"
   ]
  },
  {
   "cell_type": "code",
   "execution_count": 11,
   "metadata": {},
   "outputs": [
    {
     "name": "stdout",
     "output_type": "stream",
     "text": [
      "c(c='bourdieu|distinctions social') 2178\n"
     ]
    }
   ],
   "source": [
    "mx = max(cntd['c'], key=lambda x:cntd['c'][x])\n",
    "print(mx, cntd['c'][mx])"
   ]
  },
  {
   "cell_type": "code",
   "execution_count": 4,
   "metadata": {},
   "outputs": [
    {
     "data": {
      "text/plain": [
       "[fa(fa='blau, j'),\n",
       " fa(fa='knoblauch, h'),\n",
       " fa(fa='blau, p'),\n",
       " fa(fa='blau, f'),\n",
       " fa(fa='blau, k'),\n",
       " fa(fa='blauner, r'),\n",
       " fa(fa='blau, z')]"
      ]
     },
     "execution_count": 4,
     "metadata": {},
     "output_type": "execute_result"
    }
   ],
   "source": [
    "[x for x in cntd['fa'] if 'blau' in x[0].lower()]"
   ]
  },
  {
   "cell_type": "code",
   "execution_count": 9,
   "metadata": {},
   "outputs": [
    {
     "data": {
      "text/plain": [
       "47"
      ]
     },
     "execution_count": 9,
     "metadata": {},
     "output_type": "execute_result"
    }
   ],
   "source": [
    "cntd['c.fy'][(\"goffman|stigma management sp\",2017)]"
   ]
  },
  {
   "cell_type": "code",
   "execution_count": 6,
   "metadata": {},
   "outputs": [
    {
     "data": {
      "text/plain": [
       "[(c(c='bourdieu|distinction a social'), 2178),\n",
       " (c(c='glaser|discover grounded th'), 1411),\n",
       " (c(c='blau|am occupational stru'), 1272),\n",
       " (c(c='berger|social construction'), 1215),\n",
       " (c(c='mead|mind self and societ'), 1213),\n",
       " (c(c='putnam|bowling alone collap'), 1169),\n",
       " (c(c='goffman|stigma management sp'), 1168),\n",
       " (c(c='parsons|social system legal'), 1137),\n",
       " (c(c='foucault|discipline punish bi'), 1134),\n",
       " (c(c='durkheim|elementary formrel'), 1129),\n",
       " (c(c='garfinkel|stud ethnomethodol'), 1107),\n",
       " (c(c='durkheim|division labor soc'), 1071),\n",
       " (c(c='granovetter|1973|am j sociol,v78,p1361'), 1029),\n",
       " (c(c='wilson|the truly disadvanta'), 1027),\n",
       " (c(c='weber|m weber gesammelte a'), 995),\n",
       " (c(c='weber|ec society'), 990),\n",
       " (c(c='giddens|modernity self ident'), 987),\n",
       " (c(c='bourdieu|outline theory pract'), 926),\n",
       " (c(c='coleman|fdn social theory'), 890),\n",
       " (c(c='becker|outsiders'), 883),\n",
       " (c(c='goffman|asylums essays socia'), 861),\n",
       " (c(c='allport|nat prejudice'), 833),\n",
       " (c(c='blumer|symb interact'), 817),\n",
       " (c(c='goffman|frame analysis'), 810),\n",
       " (c(c='giddens|constitution soc out'), 782),\n",
       " (c(c='hochschild|managed heart commer'), 745),\n",
       " (c(c='strauss|basics qualitative r'), 737),\n",
       " (c(c='coleman|1988|am j sociol,v94,ps94'), 729),\n",
       " (c(c='becker|treatise family'), 724),\n",
       " (c(c='becker|human capital'), 720),\n",
       " (c(c='simmel|sociology'), 717),\n",
       " (c(c='west|1987|gender soc,v1,p125'), 717),\n",
       " (c(c='bourdieu|reproduction'), 714),\n",
       " (c(c='massey|am apartheid segreta'), 713),\n",
       " (c(c='goffman|interactional ritual'), 713),\n",
       " (c(c='mills|sociol imagination'), 706),\n",
       " (c(c='hirschi|causes delinquency'), 704),\n",
       " (c(c='swidler|1986|am sociol rev,v51,p273'), 694),\n",
       " (c(c='braverman|labor monoply capita'), 688),\n",
       " (c(c='bourdieu|the logic of practic'), 683),\n",
       " (c(c='granovetter|1985|am j sociol,v91,p481'), 654),\n",
       " (c(c='homans|social behavior elem'), 644),\n",
       " (c(c='parsons|structure social act'), 634),\n",
       " (c(c='olsen|logic collective act'), 631),\n",
       " (c(c='berger|sacred canopy elemen'), 631),\n",
       " (c(c='esping-andersen|1990|3 worlds welfare cap'), 626),\n",
       " (c(c='blau|exchange power socia'), 623),\n",
       " (c(c='raudenbush|hlm6 hierarchical li'), 619),\n",
       " (c(c='dimaggio|1983|am sociol rev,v48,p147'), 618),\n",
       " (c(c='weber|theory social ec org'), 617),\n",
       " (c(c='willis|learning labour why'), 613),\n",
       " (c(c='gordon|assimilation am life'), 612),\n",
       " (c(c='beck|risk soc new modernt'), 601),\n",
       " (c(c='mcpherson|2001|annu rev sociol,v27,p415'), 593),\n",
       " (c(c='blalock|theory minority grou'), 580),\n",
       " (c(c='bourdieu|invitation reflectiv'), 559),\n",
       " (c(c='freidson|profession med'), 557),\n",
       " (c(c='putnam|making democracy wor'), 556),\n",
       " (c(c='bellah|habits heart'), 546),\n",
       " (c(c='foucault|power knowledge'), 545),\n",
       " (c(c='connell|masculinities'), 544),\n",
       " (c(c='foucault|1998|hist sexuality,v1'), 540),\n",
       " (c(c='durkheim|rules sociological m'), 534),\n",
       " (c(c='lareau|unequal childhoods r'), 533),\n",
       " (c(c='mcadams|political process de'), 528),\n",
       " (c(c='giddens|consequences modern'), 527),\n",
       " (c(c='bourdieu|1986|hdb theory res socio,p241'), 516),\n",
       " (c(c='blau|inequality heterogen'), 514),\n",
       " (c(c='connell|gender short intro'), 512),\n",
       " (c(c='gramsci|selection prison not'), 509),\n",
       " (c(c='tilly|mobilization revolut'), 509),\n",
       " (c(c='polanyi|the great transforma'), 504),\n",
       " (c(c='butler|gender trouble'), 501),\n",
       " (c(c='bowles|sch capitalist am ed'), 493),\n",
       " (c(c='portes|1998|annu rev sociol,v22,p1'), 488),\n",
       " (c(c='meyer|1977|am j sociol,v83,p340'), 487),\n",
       " (c(c='wallerstein|crises world system'), 485),\n",
       " (c(c='charmaz|constructed grounded'), 483),\n",
       " (c(c='mccarthy|1977|am j sociol,v82,p1212'), 474),\n",
       " (c(c='steensland|2000|soc forces,v79,p291'), 472),\n",
       " (c(c='hofstede|culture consequences'), 465),\n",
       " (c(c='gilligan|different voice'), 464),\n",
       " (c(c='radloff|1977|applied psychological measurement,v1,p385'), 460),\n",
       " (c(c='edwards|contested terrain'), 460),\n",
       " (c(c='burt|structural holes'), 452),\n",
       " (c(c='bollen|structural equation'), 452),\n",
       " (c(c='long|regression models ca'), 441),\n",
       " (c(c='erikson|constant flux study'), 441),\n",
       " (c(c='mills|power elite'), 439),\n",
       " (c(c='rogers|diffusion innovation'), 437),\n",
       " (c(c='bell|coming post ind soc'), 436),\n",
       " (c(c='foucault|m foucault structura'), 436),\n",
       " (c(c='festinger|theory cognitive dis'), 436),\n",
       " (c(c='snijders|multilevel anal'), 432),\n",
       " (c(c='wilson|when work disappears'), 432),\n",
       " (c(c='homans|human group'), 432),\n",
       " (c(c='myrdal|am dilemma negro pro'), 429),\n",
       " (c(c='snow|1986|am sociol rev,v51,p464'), 428),\n",
       " (c(c='joreskog|lisrel'), 425),\n",
       " (c(c='cohen|delinquent boys'), 418)]"
      ]
     },
     "execution_count": 6,
     "metadata": {},
     "output_type": "execute_result"
    }
   ],
   "source": [
    "Counter(dict(cntd['c'].items())).most_common(100)"
   ]
  },
  {
   "cell_type": "code",
   "execution_count": 41,
   "metadata": {},
   "outputs": [
    {
     "name": "stdout",
     "output_type": "stream",
     "text": [
      "num citations per year 1950+ [336, 513, 531, 539, 534, 555, 599, 596, 608, 751, 1049, 1302, 1618, 1788, 1889, 2122, 3068, 2495, 2111, 4486, 5278, 6020, 6229, 6955, 7394, 8580, 10221, 11622, 13660, 14024, 17294, 15751, 17405, 16907, 19065, 18453, 18903, 21179, 23315, 24740, 24134, 25704, 25770, 26698, 26832, 25176, 26356, 25892, 27329, 26223, 28397, 30243, 31507, 30630, 32199, 31250, 35317, 38471, 40575, 42491, 55494, 59247, 61022, 66011, 66734, 71773, 71027, 67302, 72678, 78048]\n"
     ]
    }
   ],
   "source": [
    "print(\"num citations per year 1950+\", [ cnti['fy'][(y,)] for y in range(1950,2020) ] )"
   ]
  },
  {
   "cell_type": "code",
   "execution_count": 25,
   "metadata": {},
   "outputs": [
    {
     "data": {
      "text/plain": [
       "[(2, 34288),\n",
       " (3, 24960),\n",
       " (4, 18042),\n",
       " (1, 17857),\n",
       " (5, 13257),\n",
       " (6, 9899),\n",
       " (7, 7819),\n",
       " (8, 6220),\n",
       " (9, 4994),\n",
       " (10, 4161)]"
      ]
     },
     "execution_count": 25,
     "metadata": {},
     "output_type": "execute_result"
    }
   ],
   "source": [
    "Counter(cntd['c'].values()).most_common(10)"
   ]
  },
  {
   "cell_type": "code",
   "execution_count": 17,
   "metadata": {},
   "outputs": [
    {
     "data": {
      "text/plain": [
       "174810"
      ]
     },
     "execution_count": 17,
     "metadata": {},
     "output_type": "execute_result"
    }
   ],
   "source": [
    "len([x for x in cnti['c'] if cnti['c'][x] > 0])"
   ]
  },
  {
   "cell_type": "code",
   "execution_count": 19,
   "metadata": {},
   "outputs": [
    {
     "data": {
      "text/plain": [
       "37370"
      ]
     },
     "execution_count": 19,
     "metadata": {},
     "output_type": "execute_result"
    }
   ],
   "source": [
    "len([x for x in cnti['ta'] if cnti['ta'][x] > 0])"
   ]
  },
  {
   "cell_type": "markdown",
   "metadata": {},
   "source": [
    "# citations, articles before 1950"
   ]
  },
  {
   "cell_type": "code",
   "execution_count": 10,
   "metadata": {},
   "outputs": [],
   "source": [
    "cc = defaultdict(int)\n",
    "cc2 = defaultdict(int)\n",
    "for (j,y),count in cnti['fj.fy'].items():\n",
    "    if y < 1950 and count > 0:\n",
    "        cc[j] += count\n",
    "        cc2[j] += cntd['fj.fy'][(j,y)]"
   ]
  },
  {
   "cell_type": "code",
   "execution_count": 11,
   "metadata": {},
   "outputs": [
    {
     "data": {
      "text/plain": [
       "defaultdict(int,\n",
       "            {'american sociological review': 1129,\n",
       "             'rural sociology': 241,\n",
       "             'social forces': 765,\n",
       "             'american journal of sociology': 769})"
      ]
     },
     "execution_count": 11,
     "metadata": {},
     "output_type": "execute_result"
    }
   ],
   "source": [
    "cc"
   ]
  },
  {
   "cell_type": "code",
   "execution_count": 13,
   "metadata": {},
   "outputs": [
    {
     "data": {
      "text/plain": [
       "1151"
      ]
     },
     "execution_count": 13,
     "metadata": {},
     "output_type": "execute_result"
    }
   ],
   "source": [
    "sum(cc2.values())"
   ]
  },
  {
   "cell_type": "markdown",
   "metadata": {},
   "source": [
    "# example sequence"
   ]
  },
  {
   "cell_type": "code",
   "execution_count": 66,
   "metadata": {},
   "outputs": [],
   "source": [
    "name = 'kahl|measurement modernis'"
   ]
  },
  {
   "cell_type": "code",
   "execution_count": 70,
   "metadata": {},
   "outputs": [
    {
     "data": {
      "text/plain": [
       "1969"
      ]
     },
     "execution_count": 70,
     "metadata": {},
     "output_type": "execute_result"
    }
   ],
   "source": []
  },
  {
   "cell_type": "code",
   "execution_count": 71,
   "metadata": {},
   "outputs": [
    {
     "name": "stdout",
     "output_type": "stream",
     "text": [
      "[3, 3, 4, 6, 13, 2, 2, 2, 2, 3, 4, 2, 0, 1, 0, 0, 0, 0, 1, 0, 1, 0, 0, 0, 0, 0, 0, 0, 0, 0, 0, 0, 0, 0, 0, 0, 0, 0, 0, 0, 0, 0, 0, 0, 0, 0, 0, 0, 0, 0]\n"
     ]
    }
   ],
   "source": [
    "print([cntd['c.fy'][(name,y)] for y in range(ysum[name]['first'], 2019)])"
   ]
  },
  {
   "cell_type": "code",
   "execution_count": 72,
   "metadata": {},
   "outputs": [],
   "source": [
    "a = np.array([cntd['c.fy'][(name,y)] for y in range(ysum[name]['first'], 2019)])"
   ]
  },
  {
   "cell_type": "code",
   "execution_count": 74,
   "metadata": {},
   "outputs": [
    {
     "data": {
      "text/plain": [
       "1990"
      ]
     },
     "execution_count": 74,
     "metadata": {},
     "output_type": "execute_result"
    }
   ],
   "source": [
    "np.max( np.argwhere( a > 0 ) ) + 1 + ysum[name]['first']"
   ]
  },
  {
   "cell_type": "code",
   "execution_count": 79,
   "metadata": {},
   "outputs": [
    {
     "data": {
      "text/plain": [
       "1990"
      ]
     },
     "execution_count": 79,
     "metadata": {},
     "output_type": "execute_result"
    }
   ],
   "source": [
    "ysum[name]['death_0']"
   ]
  },
  {
   "cell_type": "code",
   "execution_count": 4,
   "metadata": {},
   "outputs": [
    {
     "data": {
      "text/plain": [
       "[c(c='andrews|social indicators we'),\n",
       " c(c='andrews|1991|measures personality,v1,p61'),\n",
       " c(c='campbell|quality life percept'),\n",
       " c(c='costa|revised neo personal'),\n",
       " c(c='cummins|2002|universality subject,p7')]"
      ]
     },
     "execution_count": 4,
     "metadata": {},
     "output_type": "execute_result"
    }
   ],
   "source": [
    "list(cnt['c'])[:5]"
   ]
  },
  {
   "cell_type": "code",
   "execution_count": 16,
   "metadata": {},
   "outputs": [
    {
     "data": {
      "text/plain": [
       "1967"
      ]
     },
     "execution_count": 16,
     "metadata": {},
     "output_type": "execute_result"
    }
   ],
   "source": [
    "min( y for (c,y), count in cnt['c.fy'].items() if c == name and count > 0 )"
   ]
  },
  {
   "cell_type": "code",
   "execution_count": 10,
   "metadata": {},
   "outputs": [
    {
     "data": {
      "text/plain": [
       "[(c_fj(c='macpherson|1962', fj='american journal of economics and sociology'),\n",
       "  3),\n",
       " (c_fj(c='macpherson|1962', fj='american journal of sociology'), 5),\n",
       " (c_fj(c='macpherson|1962', fj='media culture & society'), 1),\n",
       " (c_fj(c='macpherson|1962', fj='sociological quarterly'), 1),\n",
       " (c_fj(c='macpherson|1962', fj='journal of law and society'), 1),\n",
       " (c_fj(c='macpherson|1962', fj='comparative studies in society and history'),\n",
       "  6),\n",
       " (c_fj(c='macpherson|1962', fj='law & society review'), 2),\n",
       " (c_fj(c='macpherson|1962', fj='rural sociology'), 2),\n",
       " (c_fj(c='macpherson|1962', fj='social science research'), 2),\n",
       " (c_fj(c='macpherson|1962', fj='british journal of sociology'), 7),\n",
       " (c_fj(c='macpherson|1962', fj='society'), 1),\n",
       " (c_fj(c='macpherson|1962', fj='international sociology'), 1),\n",
       " (c_fj(c='macpherson|1962', fj='teaching sociology'), 1),\n",
       " (c_fj(c='macpherson|1962', fj='american sociological review'), 6),\n",
       " (c_fj(c='macpherson|1962', fj='economy and society'), 1),\n",
       " (c_fj(c='macpherson|1962', fj='international journal of intercultural relations'),\n",
       "  1),\n",
       " (c_fj(c='macpherson|1962', fj='politics & society'), 4),\n",
       " (c_fj(c='macpherson|1962', fj='sociology-the journal of the british sociological association'),\n",
       "  3),\n",
       " (c_fj(c='macpherson|1962', fj='acta sociologica'), 3),\n",
       " (c_fj(c='macpherson|1962', fj='sociologia ruralis'), 2),\n",
       " (c_fj(c='macpherson|1962', fj='theory and society'), 4),\n",
       " (c_fj(c='macpherson|1962', fj='sociology of education'), 1),\n",
       " (c_fj(c='macpherson|1962', fj='social science quarterly'), 2),\n",
       " (c_fj(c='macpherson|1962', fj='canadian journal of sociology-cahiers canadiens de sociologie'),\n",
       "  3),\n",
       " (c_fj(c='macpherson|1962', fj='human studies'), 1),\n",
       " (c_fj(c='macpherson|1962', fj='social forces'), 1),\n",
       " (c_fj(c='macpherson|1962', fj='social indicators research'), 1),\n",
       " (c_fj(c='macpherson|1962', fj='sociological inquiry'), 3),\n",
       " (c_fj(c='macpherson|1962', fj='review of religious research'), 1),\n",
       " (c_fj(c='macpherson|1962', fj='sociological review'), 1),\n",
       " (c_fj(c='macpherson|1962', fj='archives europeennes de sociologie'), 1),\n",
       " (c_fj(c='macpherson|1962', fj='social problems'), 1),\n",
       " (('macpherson|1962', 1967), 0)]"
      ]
     },
     "execution_count": 10,
     "metadata": {},
     "output_type": "execute_result"
    }
   ],
   "source": [
    "[x for x in cnt['c.fj'].items() if x[0][0] == 'macpherson|1962' and x[0]]"
   ]
  },
  {
   "cell_type": "code",
   "execution_count": null,
   "metadata": {},
   "outputs": [],
   "source": []
  }
 ],
 "metadata": {
  "kernelspec": {
   "display_name": "Python 3",
   "language": "python",
   "name": "python3"
  },
  "language_info": {
   "codemirror_mode": {
    "name": "ipython",
    "version": 3
   },
   "file_extension": ".py",
   "mimetype": "text/x-python",
   "name": "python",
   "nbconvert_exporter": "python",
   "pygments_lexer": "ipython3",
   "version": "3.7.5"
  }
 },
 "nbformat": 4,
 "nbformat_minor": 4
}
