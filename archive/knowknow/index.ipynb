{
 "cells": [
  {
   "cell_type": "code",
   "execution_count": 1,
   "metadata": {},
   "outputs": [],
   "source": [
    "import sys; sys.path.append(_dh[0].split(\"knowknow\")[0])\n",
    "from knowknow import *"
   ]
  },
  {
   "cell_type": "code",
   "execution_count": 2,
   "metadata": {},
   "outputs": [],
   "source": [
    "# lists html files in an automated way\n",
    "\n",
    "def list_dir(d):\n",
    "    import urllib\n",
    "    cc = []\n",
    "    for fn in sorted(Path(\".\").glob(\"%s/**/*.html\"%d)):\n",
    "        name = fn.name.split(\".html\")[0]\n",
    "        cc += [\"<li> <a href='%s'>%s</a> </li>\" % (urllib.parse.quote(bytes(fn)), name)]\n",
    "    cc = ['<ul>']+cc+['</ul>']\n",
    "    display(HTML(\"\\n\".join(cc)))"
   ]
  },
  {
   "cell_type": "markdown",
   "metadata": {},
   "source": [
    "# KnowKnow\n",
    "\n",
    "This Python package, `knowknow`, is an attempt to make powerful, modern tools for analyzing the structure of knowledge open to anyone.\n",
    "Although I hope we can continue to improve the methods and documentation written here, and I intend that this grow larger than myself, this package acts as a stabilizing force for the field, giving us all access to the common methods and data for analyzing these structures.\n",
    "\n",
    "I have included every inch of code here, leaving no stone unturned. With every `pip install knowknow-amcgail`, you download the following:\n",
    "\n",
    "+ `creating variables`, a collection of pre-processing algorithms for cleaning and summarizing Web of Science search results, or JSTOR Data for Research data dumps.\n",
    "+ `analyses`, a set of descriptive notebooks which illustrate these datasets\n",
    "+ A connector to pre-computed cooccurrence sets, hosted on [OSF](https://osf.io/9vx4y/)\n",
    "\n",
    "For more details and instructions on how to reproduce these analyses, see [GitHub](https://github.com/amcgail/knowknow)."
   ]
  },
  {
   "cell_type": "markdown",
   "metadata": {},
   "source": [
    "# Projects built on `knowknow`\n",
    "\n",
    "+ [amcgail/citation-death](citation-death) applies the concept of 'death' to attributes of citations, and analyzes the lifecourse of cited works, cited authors, and the authors writing the citations, using the `sociology-wos` dataset."
   ]
  },
  {
   "cell_type": "markdown",
   "metadata": {},
   "source": [
    "# Datasets built with `knowknow`\n",
    "\n",
    "+ Sociology ([hosted on OSF](https://osf.io/9vx4y/))\n",
    "    + `sociology-wos` every paper in WoS in early 2020 whose journal is in the 'Sociology' category, and which have full data. See [the Web of Science counter for more information](/creating%20variables%5Ccounter%20-%20web%20of%20science%20(cnt).html)\n",
    "    + `sociology-jstor` in-text citations and their contexts were extracted from >90k full-text Sociology articles indexed in JSTOR. See [the JSTOR counter for more information](creating%20variables%5Ccounter%20-%20jstor%20(cnt).html)\n",
    "    + `sociology-wos-all`"
   ]
  },
  {
   "cell_type": "markdown",
   "metadata": {},
   "source": [
    "# Under the hood"
   ]
  },
  {
   "cell_type": "markdown",
   "metadata": {},
   "source": [
    "## Creating Variables"
   ]
  },
  {
   "cell_type": "code",
   "execution_count": 3,
   "metadata": {},
   "outputs": [
    {
     "data": {
      "text/html": [
       "<ul>\n",
       "<li> <a href='creating%20variables%5Ccounter%20-%20jstor%20%28cnt%29.html'>counter - jstor (cnt)</a> </li>\n",
       "<li> <a href='creating%20variables%5Ccounter%20-%20web%20of%20science%20%28cnt%29.html'>counter - web of science (cnt)</a> </li>\n",
       "<li> <a href='creating%20variables%5Cfind%20and%20catalogue%20rebirths.html'>find and catalogue rebirths</a> </li>\n",
       "<li> <a href='creating%20variables%5Cgrouping%20article%20and%20book%20names%20%28groups%29.html'>grouping article and book names (groups)</a> </li>\n",
       "<li> <a href='creating%20variables%5Ctop%20percent%20cited%20in%20decade%20%28top1%29.html'>top percent cited in decade (top1)</a> </li>\n",
       "<li> <a href='creating%20variables%5Ctrend%20summaries%5Caysum%20_%20summarizing%20author%27s%20publishing%20career.html'>aysum _ summarizing author's publishing career</a> </li>\n",
       "<li> <a href='creating%20variables%5Ctrend%20summaries%5Ccysum%20_%20summarizing%20citation%27s%20cited%20career.html'>cysum _ summarizing citation's cited career</a> </li>\n",
       "<li> <a href='creating%20variables%5Ctrend%20summaries%5Ctysum%20_%20summarizing%20terms%27%20citation%20careers%20in%20contexts.html'>tysum _ summarizing terms' citation careers in contexts</a> </li>\n",
       "<li> <a href='creating%20variables%5Cysum%20-%20computing%20temporal%20summaries.html'>ysum - computing temporal summaries</a> </li>\n",
       "</ul>"
      ],
      "text/plain": [
       "<IPython.core.display.HTML object>"
      ]
     },
     "metadata": {},
     "output_type": "display_data"
    }
   ],
   "source": [
    "list_dir(\"creating variables\")"
   ]
  },
  {
   "cell_type": "markdown",
   "metadata": {},
   "source": [
    "## Analyses"
   ]
  },
  {
   "cell_type": "code",
   "execution_count": 4,
   "metadata": {},
   "outputs": [
    {
     "data": {
      "text/html": [
       "<ul>\n",
       "<li> <a href='analyses%5Cgroups%20of%20cited%20references%20-%20summary.html'>groups of cited references - summary</a> </li>\n",
       "<li> <a href='analyses%5Cjournal%20summary.html'>journal summary</a> </li>\n",
       "<li> <a href='analyses%5Cjournal-journal%20cocitation.html'>journal-journal cocitation</a> </li>\n",
       "<li> <a href='analyses%5Clifespan%20heatmap.html'>lifespan heatmap</a> </li>\n",
       "<li> <a href='analyses%5Ctitles%20of%20random%20articles.html'>titles of random articles</a> </li>\n",
       "<li> <a href='analyses%5Cubiquitous%20power-law%20behavior.html'>ubiquitous power-law behavior</a> </li>\n",
       "</ul>"
      ],
      "text/plain": [
       "<IPython.core.display.HTML object>"
      ]
     },
     "metadata": {},
     "output_type": "display_data"
    }
   ],
   "source": [
    "list_dir(\"analyses\")"
   ]
  },
  {
   "cell_type": "code",
   "execution_count": 2,
   "metadata": {},
   "outputs": [
    {
     "data": {
      "text/html": [
       "<script src=\"https://unpkg.com/commentbox.io/dist/commentBox.min.js\"></script><div class=\"commentbox\"></div><script type=\"module\">\n",
       "    import commentBox from 'commentbox.io';commentBox('5738033810767872-proj');\n",
       "    </script>\n",
       "    "
      ],
      "text/plain": [
       "<IPython.core.display.HTML object>"
      ]
     },
     "metadata": {},
     "output_type": "display_data"
    }
   ],
   "source": [
    "comments()"
   ]
  },
  {
   "cell_type": "code",
   "execution_count": null,
   "metadata": {},
   "outputs": [],
   "source": []
  }
 ],
 "metadata": {
  "kernelspec": {
   "display_name": "Python 3",
   "language": "python",
   "name": "python3"
  },
  "language_info": {
   "codemirror_mode": {
    "name": "ipython",
    "version": 3
   },
   "file_extension": ".py",
   "mimetype": "text/x-python",
   "name": "python",
   "nbconvert_exporter": "python",
   "pygments_lexer": "ipython3",
   "version": "3.7.5"
  }
 },
 "nbformat": 4,
 "nbformat_minor": 4
}
