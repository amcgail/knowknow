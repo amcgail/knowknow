{
 "cells": [
  {
   "cell_type": "markdown",
   "metadata": {},
   "source": [
    "# imports"
   ]
  },
  {
   "cell_type": "code",
   "execution_count": 1,
   "metadata": {},
   "outputs": [],
   "source": [
    "import sys; sys.path.append(_dh[0].split(\"knowknow\")[0])\n",
    "from knowknow import *"
   ]
  },
  {
   "cell_type": "code",
   "execution_count": 2,
   "metadata": {},
   "outputs": [],
   "source": [
    "database_name = \"sociology-wos\""
   ]
  },
  {
   "cell_type": "code",
   "execution_count": 8,
   "metadata": {},
   "outputs": [
    {
     "name": "stdout",
     "output_type": "stream",
     "text": [
      "Loaded keys: dict_keys(['fy.ta', 'ta', 'fy'])\n",
      "Available keys: ['c', 'c.fj', 'c.fy', 'c.fy.j', 'fa', 'fa.c', 'fa.fj', 'fa.fj.fy', 'fa.fy', 'fj', 'fj.fy', 'fj.ta', 'fj.ty', 'fy', 'fy.ta', 'fy.ty', 'ta', 'ty']\n"
     ]
    }
   ],
   "source": [
    "docs = get_cnt(\"%s.doc\"%database_name, ['fy.ta','ta','fy'])\n",
    "\n",
    "ay = defaultdict(lambda:defaultdict(int))\n",
    "\n",
    "for (y,a),c in docs['fy.ta'].items():\n",
    "    ay[a][y] += c"
   ]
  },
  {
   "cell_type": "code",
   "execution_count": 9,
   "metadata": {},
   "outputs": [],
   "source": [
    "aysum = {}\n",
    "\n",
    "for ai,a in enumerate(ay):\n",
    "    YRLOOK\n",
    "    if docs['ta'][a] == 0:\n",
    "        continue\n",
    "        \n",
    "\n",
    "    count = ay[a]\n",
    "    prop =  {\n",
    "        y: county / docs['fy'][y]\n",
    "        for y,county in count.items()\n",
    "    }\n",
    "    \n",
    "    if not len(prop):\n",
    "        print(a)\n",
    "\n",
    "    res = {\n",
    "        'first': min(count),\n",
    "        'last': max(count),\n",
    "        'maxcounty': max(count, key=lambda y:(count[y],y)),\n",
    "        'maxpropy': max(count, key=lambda y:(prop[y],y))\n",
    "    }\n",
    "\n",
    "    res['maxprop'] = prop[ res['maxpropy'] ]\n",
    "    res['maxcount'] = count[ res['maxcounty'] ]\n",
    "    res['total'] = sum(count.values())\n",
    "    res['totalprop'] = sum(prop.values())\n",
    "    res['name'] = a\n",
    "    \n",
    "    \n",
    "    # death3 is the last, as long as it's before 2005\n",
    "    res['death3'] = None\n",
    "    if res['last'] <= 2005:\n",
    "        res['death3'] = res['last']\n",
    "        \n",
    "        \n",
    "        \n",
    "        \n",
    "        \n",
    "\n",
    "    # generating \"death2\", max then decade with total less than that forever\n",
    "    \n",
    "    next_year_sums = [\n",
    "        (ycheck, sum( a for y,a in prop.items() if ycheck + 10 >= y > ycheck ))\n",
    "        for ycheck in range(res['maxcounty'], 2005)\n",
    "    ]\n",
    "\n",
    "    # need to make sure ALL subsequent decade intervals are also less...\n",
    "    my_death_year = None\n",
    "\n",
    "    l = len(next_year_sums)\n",
    "    for i in range(l):\n",
    "        not_this_one = False\n",
    "        for j in range(i,l):\n",
    "            if next_year_sums[j][1] >= res['maxcount']:\n",
    "                not_this_one = True\n",
    "                break\n",
    "\n",
    "        if not_this_one:\n",
    "            continue\n",
    "\n",
    "        my_death_year = next_year_sums[i][0]\n",
    "        break\n",
    "\n",
    "    if not len(next_year_sums):\n",
    "        res['death2'] = None\n",
    "    else:\n",
    "        res['death2'] = my_death_year\n",
    "        \n",
    "        \n",
    "        \n",
    "\n",
    "    \n",
    "    # death3 is the max, as long as it's before 2005\n",
    "    res['death1'] = None\n",
    "    if res['maxcounty'] <= 2005:\n",
    "        res['death1'] = res['maxcounty']\n",
    "\n",
    "\n",
    "        \n",
    "\n",
    "    # don't care about those with only a single publication\n",
    "    if res['total'] <= 1:\n",
    "        continue\n",
    "\n",
    "    # we really don't care about those that never rise in use\n",
    "    if res['first'] == res['maxcounty']:\n",
    "        continue\n",
    "\n",
    "    aysum[a] = res"
   ]
  },
  {
   "cell_type": "code",
   "execution_count": 10,
   "metadata": {},
   "outputs": [
    {
     "data": {
      "text/plain": [
       "[{'first': 1926,\n",
       "  'last': 1930,\n",
       "  'maxcounty': 1930,\n",
       "  'maxpropy': 1930,\n",
       "  'maxprop': 0.03333333333333333,\n",
       "  'maxcount': 1,\n",
       "  'total': 2,\n",
       "  'totalprop': 0.06559139784946236,\n",
       "  'name': 'dealey',\n",
       "  'death3': 1930,\n",
       "  'death2': 1930,\n",
       "  'death1': 1930},\n",
       " {'first': 1926,\n",
       "  'last': 1929,\n",
       "  'maxcounty': 1929,\n",
       "  'maxpropy': 1929,\n",
       "  'maxprop': 0.045454545454545456,\n",
       "  'maxcount': 1,\n",
       "  'total': 2,\n",
       "  'totalprop': 0.07771260997067449,\n",
       "  'name': 'mateer',\n",
       "  'death3': 1929,\n",
       "  'death2': 1929,\n",
       "  'death1': 1929},\n",
       " {'first': 1927,\n",
       "  'last': 1929,\n",
       "  'maxcounty': 1929,\n",
       "  'maxpropy': 1927,\n",
       "  'maxprop': 0.05555555555555555,\n",
       "  'maxcount': 1,\n",
       "  'total': 2,\n",
       "  'totalprop': 0.10101010101010101,\n",
       "  'name': 'maulsby',\n",
       "  'death3': 1929,\n",
       "  'death2': 1929,\n",
       "  'death1': 1929},\n",
       " {'first': 1917,\n",
       "  'last': 1925,\n",
       "  'maxcounty': 1925,\n",
       "  'maxpropy': 1917,\n",
       "  'maxprop': 0.3333333333333333,\n",
       "  'maxcount': 1,\n",
       "  'total': 2,\n",
       "  'totalprop': 0.367816091954023,\n",
       "  'name': 'conradi',\n",
       "  'death3': 1925,\n",
       "  'death2': 1925,\n",
       "  'death1': 1925},\n",
       " {'first': 1902,\n",
       "  'last': 1904,\n",
       "  'maxcounty': 1904,\n",
       "  'maxpropy': 1904,\n",
       "  'maxprop': 1.0,\n",
       "  'maxcount': 1,\n",
       "  'total': 2,\n",
       "  'totalprop': 1.2,\n",
       "  'name': 'degreef',\n",
       "  'death3': 1904,\n",
       "  'death2': 1904,\n",
       "  'death1': 1904}]"
      ]
     },
     "execution_count": 10,
     "metadata": {},
     "output_type": "execute_result"
    }
   ],
   "source": [
    "list(aysum.values())[-5:]"
   ]
  },
  {
   "cell_type": "code",
   "execution_count": 11,
   "metadata": {},
   "outputs": [],
   "source": [
    "save_variable(\"%s.aysum\" % database_name, aysum)"
   ]
  }
 ],
 "metadata": {
  "kernelspec": {
   "display_name": "Python 3",
   "language": "python",
   "name": "python3"
  },
  "language_info": {
   "codemirror_mode": {
    "name": "ipython",
    "version": 3
   },
   "file_extension": ".py",
   "mimetype": "text/x-python",
   "name": "python",
   "nbconvert_exporter": "python",
   "pygments_lexer": "ipython3",
   "version": "3.7.5"
  }
 },
 "nbformat": 4,
 "nbformat_minor": 4
}
