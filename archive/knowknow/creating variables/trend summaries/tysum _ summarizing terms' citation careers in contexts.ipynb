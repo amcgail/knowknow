{
 "cells": [
  {
   "cell_type": "code",
   "execution_count": 1,
   "metadata": {},
   "outputs": [],
   "source": [
    "import sys; sys.path.append(_dh[0].split(\"knowknow\")[0])\n",
    "from knowknow import *"
   ]
  },
  {
   "cell_type": "code",
   "execution_count": 2,
   "metadata": {},
   "outputs": [],
   "source": [
    "database_name = \"sociology-jstor\""
   ]
  },
  {
   "cell_type": "code",
   "execution_count": 3,
   "metadata": {},
   "outputs": [
    {
     "name": "stdout",
     "output_type": "stream",
     "text": [
      "Loaded keys: dict_keys(['fy.t', 't', 'fy'])\n",
      "Available keys: ['a', 'a.c', 'a.fj.fy', 'c', 'c.c', 'c.fa', 'c.fj', 'c.fy', 'c.t', 'fa', 'fa.fj.fy', 'fj', 'fj.fy', 'fj.t', 'fy', 'fy.t', 't']\n"
     ]
    }
   ],
   "source": [
    "cits = get_cnt(\"%s.doc\" % database_name, keys=['fy.t','t','fy'])"
   ]
  },
  {
   "cell_type": "code",
   "execution_count": 4,
   "metadata": {},
   "outputs": [],
   "source": [
    "RELIABLE_DATA_ENDS_HERE = 2010\n",
    "import re\n",
    "\n",
    "def create_tysum(cits):\n",
    "    \n",
    "    meta_counters = defaultdict(int)\n",
    "\n",
    "    ty = defaultdict(lambda:defaultdict(int))\n",
    "\n",
    "    for comb,count in cits['fy.t'].items():\n",
    "        ty[comb.t][comb.fy] = count\n",
    "\n",
    "    tysum = {}\n",
    "    for ti,t in enumerate(ty):\n",
    "        meta_counters['at least one citation'] += 1\n",
    "\n",
    "        count = ty[t]\n",
    "        prop =  {\n",
    "            y: county / cits['fy'][ (y,) ]\n",
    "            for y,county in count.items()\n",
    "        }\n",
    "\n",
    "        res = {\n",
    "            'first': min(count),\n",
    "            'last': max(count),\n",
    "            'maxcounty': max(count, key=lambda y:(count[y],y)),\n",
    "            'maxpropy': max(count, key=lambda y:(prop[y],y))\n",
    "        }\n",
    "\n",
    "        res['maxprop'] = prop[ res['maxpropy'] ]\n",
    "        res['maxcount'] = count[ res['maxcounty'] ]\n",
    "        res['total'] = sum(count.values())\n",
    "        res['totalprop'] = sum(prop.values())\n",
    "        res['name'] = t\n",
    "                \n",
    "\n",
    "        \n",
    "        \n",
    "        \n",
    "        \n",
    "        \n",
    "\n",
    "        # death3 is last, as long as it's before RELIABLE_DATA_ENDS_HERE\n",
    "        res['death3'] = None\n",
    "        if res['last'] <= RELIABLE_DATA_ENDS_HERE:\n",
    "            res['death3'] = res['last']\n",
    "        \n",
    "        \n",
    "        \n",
    "        \n",
    "        \n",
    "\n",
    "        next_year_sums = [\n",
    "            (ycheck, sum( c for y,c in count.items() if ycheck + 10 >= y > ycheck ))\n",
    "            for ycheck in range(res['maxcounty'], RELIABLE_DATA_ENDS_HERE) \n",
    "        ]\n",
    "\n",
    "        # need to make sure ALL subsequent decade intervals are also less...\n",
    "        my_death_year = None\n",
    "\n",
    "        l = len(next_year_sums)\n",
    "        for i in range(l):\n",
    "            not_this_one = False\n",
    "            for j in range(i,l):\n",
    "                if next_year_sums[j][1] >= res['maxcount']:\n",
    "                    not_this_one = True\n",
    "                if not_this_one:\n",
    "                    break\n",
    "\n",
    "            if not_this_one:\n",
    "                continue\n",
    "\n",
    "            my_death_year = next_year_sums[i][0]\n",
    "            break\n",
    "\n",
    "        if not len(next_year_sums):\n",
    "            res['death2'] = None\n",
    "        else:\n",
    "            res['death2'] = my_death_year\n",
    "\n",
    "\n",
    "\n",
    "            \n",
    "            \n",
    "            \n",
    "            \n",
    "            \n",
    "        # death1 is max, as long as it's before RELIABLE_DATA_ENDS_HERE\n",
    "        res['death1'] = None\n",
    "        if res['maxpropy'] <= RELIABLE_DATA_ENDS_HERE:\n",
    "            res['death1'] = res['maxcounty']\n",
    "        \n",
    "        \n",
    "            \n",
    "\n",
    "        # don't care about those with only a single citation\n",
    "        if res['total'] <= 1:\n",
    "            meta_counters['literally 1 citation. dropped.'] += 1\n",
    "            continue\n",
    "\n",
    "        # we really don't care about those that never rise in use\n",
    "        #if res['first'] == res['maxpropy']:\n",
    "        #    continue\n",
    "        meta_counters['passed tests pre-blacklist'] += 1\n",
    "\n",
    "        tysum[t] = res\n",
    "    \n",
    "    \n",
    "    \n",
    "    \n",
    "    \n",
    "    \n",
    "    blacklist = []\n",
    "    for b in blacklist:\n",
    "        if b in tysum:\n",
    "            del tysum[b]\n",
    "            meta_counters['passed all other tests but was blacklisted'] += 1\n",
    "            \n",
    "    print(dict(meta_counters))\n",
    "    \n",
    "    return tysum"
   ]
  },
  {
   "cell_type": "code",
   "execution_count": 5,
   "metadata": {},
   "outputs": [
    {
     "name": "stdout",
     "output_type": "stream",
     "text": [
      "{'at least one citation': 10130, 'passed tests pre-blacklist': 2538, 'literally 1 citation. dropped.': 7592}\n",
      "2538 tysum entries for database 'sociology-jstor'\n"
     ]
    }
   ],
   "source": [
    "varname = \"%s.tysum\"%database_name\n",
    "\n",
    "\n",
    "tysum = create_tysum(cits)\n",
    "save_variable(varname, tysum)\n",
    "\n",
    "print(\"%s tysum entries for database '%s'\" % (len(tysum), database_name))"
   ]
  }
 ],
 "metadata": {
  "kernelspec": {
   "display_name": "Python 3",
   "language": "python",
   "name": "python3"
  },
  "language_info": {
   "codemirror_mode": {
    "name": "ipython",
    "version": 3
   },
   "file_extension": ".py",
   "mimetype": "text/x-python",
   "name": "python",
   "nbconvert_exporter": "python",
   "pygments_lexer": "ipython3",
   "version": "3.7.5"
  }
 },
 "nbformat": 4,
 "nbformat_minor": 4
}
