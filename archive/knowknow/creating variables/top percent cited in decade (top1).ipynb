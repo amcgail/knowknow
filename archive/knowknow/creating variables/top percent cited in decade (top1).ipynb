{
 "cells": [
  {
   "cell_type": "code",
   "execution_count": 1,
   "metadata": {
    "execution": {
     "iopub.execute_input": "2020-06-09T22:33:00.669350Z",
     "iopub.status.busy": "2020-06-09T22:33:00.669350Z",
     "iopub.status.idle": "2020-06-09T22:33:01.847037Z",
     "shell.execute_reply": "2020-06-09T22:33:01.847037Z"
    },
    "papermill": {
     "duration": 1.195405,
     "end_time": "2020-06-09T22:33:01.847037",
     "exception": false,
     "start_time": "2020-06-09T22:33:00.651632",
     "status": "completed"
    },
    "tags": []
   },
   "outputs": [],
   "source": [
    "import sys; sys.path.append(_dh[0].split(\"knowknow\")[0])\n",
    "from knowknow import *"
   ]
  },
  {
   "cell_type": "code",
   "execution_count": 2,
   "metadata": {
    "execution": {
     "iopub.execute_input": "2020-06-09T22:33:01.978742Z",
     "iopub.status.busy": "2020-06-09T22:33:01.977745Z",
     "iopub.status.idle": "2020-06-09T22:33:01.984726Z",
     "shell.execute_reply": "2020-06-09T22:33:01.984726Z"
    },
    "papermill": {
     "duration": 0.019927,
     "end_time": "2020-06-09T22:33:01.984726",
     "exception": false,
     "start_time": "2020-06-09T22:33:01.964799",
     "status": "completed"
    },
    "tags": []
   },
   "outputs": [
    {
     "data": {
      "text/markdown": [
       "# Zooming in on the top 1%"
      ],
      "text/plain": [
       "<IPython.core.display.Markdown object>"
      ]
     },
     "metadata": {},
     "output_type": "display_data"
    },
    {
     "data": {
      "text/markdown": [
       "I would like to look at the most successful cited authors, cited works, and cited terms. Unfortunately, this isn't so simple. There has been a dramatic increase in the supply of citations over the last 100 years, so the group with the most total citations would be skewed towards the citation preferences of recent papers. In order to account for this bias,\n",
       "I choose among items cited by articles published in each decade 1940-1950, 1941-1951, 1942-1952, all the way to 1980-1990. In each of these decades I determine which were the top-cited 1%. The set of all these top 1%s, from all these decade spans, comprise the 1% I will study in this paper."
      ],
      "text/plain": [
       "<IPython.core.display.Markdown object>"
      ]
     },
     "metadata": {},
     "output_type": "display_data"
    },
    {
     "data": {
      "text/markdown": [],
      "text/plain": [
       "<IPython.core.display.Markdown object>"
      ]
     },
     "metadata": {},
     "output_type": "display_data"
    }
   ],
   "source": [
    "showdocs(\"top1\")"
   ]
  },
  {
   "cell_type": "markdown",
   "metadata": {
    "papermill": {
     "duration": 0.013685,
     "end_time": "2020-06-09T22:33:02.010428",
     "exception": false,
     "start_time": "2020-06-09T22:33:01.996743",
     "status": "completed"
    },
    "tags": []
   },
   "source": [
    "# User Parameters\n",
    "\n",
    "Just pick the database `database_name` and the type of count atom you want to analyze (e.g. `\"ta\"` for cited author, `\"c\"` for cited work, etc.)\n",
    "\n",
    "Note that `\"t\"` is only available for `jstor` databases"
   ]
  },
  {
   "cell_type": "code",
   "execution_count": 3,
   "metadata": {
    "execution": {
     "iopub.execute_input": "2020-06-09T22:33:02.037356Z",
     "iopub.status.busy": "2020-06-09T22:33:02.036359Z",
     "iopub.status.idle": "2020-06-09T22:33:02.039356Z",
     "shell.execute_reply": "2020-06-09T22:33:02.039356Z"
    },
    "papermill": {
     "duration": 0.01696,
     "end_time": "2020-06-09T22:33:02.039356",
     "exception": false,
     "start_time": "2020-06-09T22:33:02.022396",
     "status": "completed"
    },
    "tags": [
     "parameters"
    ]
   },
   "outputs": [],
   "source": [
    "database_name = 'sociology-wos'\n",
    "ctype = 'ta'\n",
    "top_percentile = 0.01"
   ]
  },
  {
   "cell_type": "code",
   "execution_count": 4,
   "metadata": {
    "execution": {
     "iopub.execute_input": "2020-06-09T22:33:02.066279Z",
     "iopub.status.busy": "2020-06-09T22:33:02.065281Z",
     "iopub.status.idle": "2020-06-09T22:33:02.068286Z",
     "shell.execute_reply": "2020-06-09T22:33:02.069271Z"
    },
    "papermill": {
     "duration": 0.017951,
     "end_time": "2020-06-09T22:33:02.069271",
     "exception": false,
     "start_time": "2020-06-09T22:33:02.051320",
     "status": "completed"
    },
    "tags": [
     "injected-parameters"
    ]
   },
   "outputs": [],
   "source": [
    "# Parameters\n",
    "database_name = \"sociology-wos\"\n",
    "ctype = \"ffa\"\n"
   ]
  },
  {
   "cell_type": "markdown",
   "metadata": {
    "papermill": {
     "duration": 0.012968,
     "end_time": "2020-06-09T22:33:02.095204",
     "exception": false,
     "start_time": "2020-06-09T22:33:02.082236",
     "status": "completed"
    },
    "tags": []
   },
   "source": [
    "# Load data"
   ]
  },
  {
   "cell_type": "code",
   "execution_count": 5,
   "metadata": {
    "execution": {
     "iopub.execute_input": "2020-06-09T22:33:02.121136Z",
     "iopub.status.busy": "2020-06-09T22:33:02.121136Z",
     "iopub.status.idle": "2020-06-09T22:33:02.501511Z",
     "shell.execute_reply": "2020-06-09T22:33:02.502509Z"
    },
    "papermill": {
     "duration": 0.395335,
     "end_time": "2020-06-09T22:33:02.502509",
     "exception": false,
     "start_time": "2020-06-09T22:33:02.107174",
     "status": "completed"
    },
    "tags": []
   },
   "outputs": [
    {
     "name": "stdout",
     "output_type": "stream",
     "text": [
      "Loaded keys: dict_keys(['ffa.fy'])\n",
      "Available keys: ['a', 'c', 'c.c', 'c.fj', 'c.fy', 'c.fy.j', 'fa', 'fa.c', 'fa.fj', 'fa.fj.fy', 'fa.fy', 'ffa', 'ffa.c', 'ffa.fj', 'ffa.fy', 'fj', 'fj.fy', 'fj.ta', 'fj.ty', 'fy', 'fy.ta', 'fy.ty', 'ta', 'ty', 'ty.ty']\n"
     ]
    }
   ],
   "source": [
    "cysum = load_variable(\"%s.%s.ysum\" % (database_name,ctype))\n",
    "cits = get_cnt(\"%s.doc\" % database_name, [comb(ctype,'fy')])"
   ]
  },
  {
   "cell_type": "code",
   "execution_count": 6,
   "metadata": {
    "execution": {
     "iopub.execute_input": "2020-06-09T22:33:02.535924Z",
     "iopub.status.busy": "2020-06-09T22:33:02.535924Z",
     "iopub.status.idle": "2020-06-09T22:33:02.538875Z",
     "shell.execute_reply": "2020-06-09T22:33:02.538875Z"
    },
    "papermill": {
     "duration": 0.018414,
     "end_time": "2020-06-09T22:33:02.538875",
     "exception": false,
     "start_time": "2020-06-09T22:33:02.520461",
     "status": "completed"
    },
    "tags": []
   },
   "outputs": [
    {
     "data": {
      "text/plain": [
       "False"
      ]
     },
     "execution_count": 6,
     "metadata": {},
     "output_type": "execute_result"
    }
   ],
   "source": [
    "any(\"-\" in x for x in cysum)"
   ]
  },
  {
   "cell_type": "markdown",
   "metadata": {
    "papermill": {
     "duration": 0.011987,
     "end_time": "2020-06-09T22:33:02.563828",
     "exception": false,
     "start_time": "2020-06-09T22:33:02.551841",
     "status": "completed"
    },
    "tags": []
   },
   "source": [
    "# loop through all the decades!"
   ]
  },
  {
   "cell_type": "code",
   "execution_count": 7,
   "metadata": {
    "execution": {
     "iopub.execute_input": "2020-06-09T22:33:02.595780Z",
     "iopub.status.busy": "2020-06-09T22:33:02.589768Z",
     "iopub.status.idle": "2020-06-09T22:33:03.235042Z",
     "shell.execute_reply": "2020-06-09T22:33:03.235042Z"
    },
    "papermill": {
     "duration": 0.660278,
     "end_time": "2020-06-09T22:33:03.236084",
     "exception": false,
     "start_time": "2020-06-09T22:33:02.575806",
     "status": "completed"
    },
    "tags": []
   },
   "outputs": [
    {
     "name": "stdout",
     "output_type": "stream",
     "text": [
      "2911 total entries\n",
      "6 /492 in the top 1.0% in 1940,1950 (6 total accumulated)\n",
      "7 /547 in the top 1.0% in 1941,1951 (8 total accumulated)\n",
      "8 /602 in the top 1.0% in 1942,1952 (10 total accumulated)\n",
      "7 /649 in the top 1.0% in 1943,1953 (10 total accumulated)\n",
      "16 /694 in the top 1.0% in 1944,1954 (19 total accumulated)\n",
      "18 /753 in the top 1.0% in 1945,1955 (21 total accumulated)"
     ]
    },
    {
     "name": "stdout",
     "output_type": "stream",
     "text": [
      "\n",
      "18 /799 in the top 1.0% in 1946,1956 (24 total accumulated)\n",
      "17 /871 in the top 1.0% in 1947,1957 (26 total accumulated)\n",
      "18 /936 in the top 1.0% in 1948,1958 (28 total accumulated)\n",
      "19 /1008 in the top 1.0% in 1949,1959 (32 total accumulated)\n",
      "21 /1099 in the top 1.0% in 1950,1960 (36 total accumulated)\n",
      "12 /1187 in the top 1.0% in 1951,1961 (38 total accumulated)\n"
     ]
    },
    {
     "name": "stdout",
     "output_type": "stream",
     "text": [
      "18 /1261 in the top 1.0% in 1952,1962 (40 total accumulated)\n",
      "17 /1337 in the top 1.0% in 1953,1963 (42 total accumulated)\n",
      "16 /1428 in the top 1.0% in 1954,1964 (42 total accumulated)\n",
      "16 /1510 in the top 1.0% in 1955,1965 (45 total accumulated)\n",
      "24 /1674 in the top 1.0% in 1956,1966 (54 total accumulated)\n",
      "23 /1792 in the top 1.0% in 1957,1967 (58 total accumulated)\n"
     ]
    },
    {
     "name": "stdout",
     "output_type": "stream",
     "text": [
      "25 /1865 in the top 1.0% in 1958,1968 (60 total accumulated)\n",
      "21 /2095 in the top 1.0% in 1959,1969 (62 total accumulated)\n",
      "35 /2315 in the top 1.0% in 1960,1970 (73 total accumulated)\n",
      "42 /2575 in the top 1.0% in 1961,1971 (82 total accumulated)\n",
      "45 /2782 in the top 1.0% in 1962,1972 (88 total accumulated)\n",
      "43 /3015 in the top 1.0% in 1963,1973 (93 total accumulated)\n",
      "43 /3308 in the top 1.0% in 1964,1974 (98 total accumulated)\n",
      "46 /3579 in the top 1.0% in 1965,1975 (105 total accumulated)\n",
      "46 /3895 in the top 1.0% in 1966,1976 (113 total accumulated)\n"
     ]
    },
    {
     "name": "stdout",
     "output_type": "stream",
     "text": [
      "53 /4161 in the top 1.0% in 1967,1977 (125 total accumulated)\n",
      "66 /4525 in the top 1.0% in 1968,1978 (141 total accumulated)\n",
      "49 /4892 in the top 1.0% in 1969,1979 (146 total accumulated)\n",
      "93 /5217 in the top 1.0% in 1970,1980 (173 total accumulated)\n",
      "55 /5461 in the top 1.0% in 1971,1981 (174 total accumulated)\n",
      "60 /5748 in the top 1.0% in 1972,1982 (180 total accumulated)\n",
      "64 /6019 in the top 1.0% in 1973,1983 (192 total accumulated)\n"
     ]
    },
    {
     "name": "stdout",
     "output_type": "stream",
     "text": [
      "70 /6298 in the top 1.0% in 1974,1984 (199 total accumulated)\n",
      "69 /6520 in the top 1.0% in 1975,1985 (209 total accumulated)\n",
      "79 /6742 in the top 1.0% in 1976,1986 (222 total accumulated)\n",
      "88 /7014 in the top 1.0% in 1977,1987 (242 total accumulated)\n",
      "90 /7277 in the top 1.0% in 1978,1988 (255 total accumulated)\n"
     ]
    },
    {
     "name": "stdout",
     "output_type": "stream",
     "text": [
      "99 /7491 in the top 1.0% in 1979,1989 (272 total accumulated)\n",
      "98 /7709 in the top 1.0% in 1980,1990 (284 total accumulated)\n",
      "(185, 42)\n"
     ]
    }
   ],
   "source": [
    "all_tops = set()\n",
    "\n",
    "print(\"%s total entries\" % len(cysum))\n",
    "\n",
    "\n",
    "# ranges loop from 1940-1950 to 1980-1990, in 1-year increments\n",
    "for RANGE_START, RANGE_END in zip( \n",
    "    range(1940,1980+1,1),\n",
    "    range(1950,1990+1,1),\n",
    "):\n",
    "    \n",
    "    # create a copy of cysum\n",
    "    cysum_copy = {k:dict(v) for k,v in cysum.items()}\n",
    "\n",
    "    count_in_range = defaultdict(int)\n",
    "    for cross, count in cits[comb(ctype,'fy')].items():\n",
    "        if RANGE_END >= cross.fy >= RANGE_START:\n",
    "            count_in_range[ getattr(cross, ctype) ] += count\n",
    "            \n",
    "    counts = list(count_in_range.values())\n",
    "    if not len(counts):\n",
    "        print(\"Skipping %s\" % RANGE_START)\n",
    "        continue\n",
    "        \n",
    "    q99 = np.quantile(np.array( counts ), 1-top_percentile)\n",
    "    top1 = {k for k in count_in_range if count_in_range[k]>=q99}\n",
    "    all_tops.update(top1)\n",
    "    \n",
    "    print(\"%s /%s in the top %0.1f%% in %s,%s (%s total accumulated)\" % (\n",
    "        len(top1),\n",
    "        len(count_in_range),\n",
    "        top_percentile*100,\n",
    "        RANGE_START, RANGE_END,\n",
    "        len(all_tops)\n",
    "    ))\n",
    "\n",
    "    \n",
    "alldf = pd.DataFrame.from_records([\n",
    "    c\n",
    "    for name, c in cysum.items()\n",
    "    if name in all_tops\n",
    "])\n",
    "\n",
    "alldf.fillna(value=np.nan, inplace=True)\n",
    "\n",
    "print(alldf.shape)"
   ]
  },
  {
   "cell_type": "code",
   "execution_count": 8,
   "metadata": {
    "execution": {
     "iopub.execute_input": "2020-06-09T22:33:03.267257Z",
     "iopub.status.busy": "2020-06-09T22:33:03.266259Z",
     "iopub.status.idle": "2020-06-09T22:33:03.270248Z",
     "shell.execute_reply": "2020-06-09T22:33:03.270248Z"
    },
    "papermill": {
     "duration": 0.019946,
     "end_time": "2020-06-09T22:33:03.270248",
     "exception": false,
     "start_time": "2020-06-09T22:33:03.250302",
     "status": "completed"
    },
    "tags": []
   },
   "outputs": [
    {
     "data": {
      "text/plain": [
       "(185, 42)"
      ]
     },
     "execution_count": 8,
     "metadata": {},
     "output_type": "execute_result"
    }
   ],
   "source": [
    "alldf.shape"
   ]
  },
  {
   "cell_type": "code",
   "execution_count": 9,
   "metadata": {
    "execution": {
     "iopub.execute_input": "2020-06-09T22:33:03.303467Z",
     "iopub.status.busy": "2020-06-09T22:33:03.300454Z",
     "iopub.status.idle": "2020-06-09T22:33:03.318405Z",
     "shell.execute_reply": "2020-06-09T22:33:03.319403Z"
    },
    "papermill": {
     "duration": 0.035193,
     "end_time": "2020-06-09T22:33:03.319403",
     "exception": false,
     "start_time": "2020-06-09T22:33:03.284210",
     "status": "completed"
    },
    "tags": []
   },
   "outputs": [
    {
     "data": {
      "text/html": [
       "<div>\n",
       "<style scoped>\n",
       "    .dataframe tbody tr th:only-of-type {\n",
       "        vertical-align: middle;\n",
       "    }\n",
       "\n",
       "    .dataframe tbody tr th {\n",
       "        vertical-align: top;\n",
       "    }\n",
       "\n",
       "    .dataframe thead th {\n",
       "        text-align: right;\n",
       "    }\n",
       "</style>\n",
       "<table border=\"1\" class=\"dataframe\">\n",
       "  <thead>\n",
       "    <tr style=\"text-align: right;\">\n",
       "      <th></th>\n",
       "      <th>maxcount</th>\n",
       "      <th>name</th>\n",
       "      <th>rebirth_5_7</th>\n",
       "      <th>rebirth_5_3</th>\n",
       "      <th>rebirth_5_2</th>\n",
       "      <th>death_2</th>\n",
       "      <th>first</th>\n",
       "      <th>rebirth_2_5</th>\n",
       "      <th>rebirth_3_5</th>\n",
       "      <th>rebirth_1_20</th>\n",
       "      <th>...</th>\n",
       "      <th>maxpropy</th>\n",
       "      <th>rebirth_0_20</th>\n",
       "      <th>rebirth_5_1</th>\n",
       "      <th>rebirth_5_6</th>\n",
       "      <th>rebirth_5_8</th>\n",
       "      <th>rebirth_3_20</th>\n",
       "      <th>death_5</th>\n",
       "      <th>rebirth_0_5</th>\n",
       "      <th>total</th>\n",
       "      <th>rebirth_0_10</th>\n",
       "    </tr>\n",
       "  </thead>\n",
       "  <tbody>\n",
       "    <tr>\n",
       "      <th>10</th>\n",
       "      <td>4</td>\n",
       "      <td>smith, d</td>\n",
       "      <td>NaN</td>\n",
       "      <td>2007.0</td>\n",
       "      <td>NaN</td>\n",
       "      <td>NaN</td>\n",
       "      <td>1965</td>\n",
       "      <td>NaN</td>\n",
       "      <td>NaN</td>\n",
       "      <td>NaN</td>\n",
       "      <td>...</td>\n",
       "      <td>1966</td>\n",
       "      <td>NaN</td>\n",
       "      <td>NaN</td>\n",
       "      <td>NaN</td>\n",
       "      <td>NaN</td>\n",
       "      <td>NaN</td>\n",
       "      <td>1997.0</td>\n",
       "      <td>NaN</td>\n",
       "      <td>61</td>\n",
       "      <td>NaN</td>\n",
       "    </tr>\n",
       "    <tr>\n",
       "      <th>41</th>\n",
       "      <td>4</td>\n",
       "      <td>hagan, j</td>\n",
       "      <td>NaN</td>\n",
       "      <td>NaN</td>\n",
       "      <td>NaN</td>\n",
       "      <td>NaN</td>\n",
       "      <td>1973</td>\n",
       "      <td>NaN</td>\n",
       "      <td>NaN</td>\n",
       "      <td>NaN</td>\n",
       "      <td>...</td>\n",
       "      <td>1977</td>\n",
       "      <td>NaN</td>\n",
       "      <td>NaN</td>\n",
       "      <td>NaN</td>\n",
       "      <td>NaN</td>\n",
       "      <td>NaN</td>\n",
       "      <td>NaN</td>\n",
       "      <td>NaN</td>\n",
       "      <td>59</td>\n",
       "      <td>NaN</td>\n",
       "    </tr>\n",
       "    <tr>\n",
       "      <th>32</th>\n",
       "      <td>4</td>\n",
       "      <td>portes, a</td>\n",
       "      <td>NaN</td>\n",
       "      <td>1984.0</td>\n",
       "      <td>NaN</td>\n",
       "      <td>NaN</td>\n",
       "      <td>1968</td>\n",
       "      <td>NaN</td>\n",
       "      <td>NaN</td>\n",
       "      <td>NaN</td>\n",
       "      <td>...</td>\n",
       "      <td>1972</td>\n",
       "      <td>NaN</td>\n",
       "      <td>NaN</td>\n",
       "      <td>NaN</td>\n",
       "      <td>NaN</td>\n",
       "      <td>NaN</td>\n",
       "      <td>1973.0</td>\n",
       "      <td>NaN</td>\n",
       "      <td>46</td>\n",
       "      <td>NaN</td>\n",
       "    </tr>\n",
       "    <tr>\n",
       "      <th>61</th>\n",
       "      <td>5</td>\n",
       "      <td>burt, r</td>\n",
       "      <td>NaN</td>\n",
       "      <td>NaN</td>\n",
       "      <td>NaN</td>\n",
       "      <td>2005.0</td>\n",
       "      <td>1973</td>\n",
       "      <td>NaN</td>\n",
       "      <td>NaN</td>\n",
       "      <td>NaN</td>\n",
       "      <td>...</td>\n",
       "      <td>1980</td>\n",
       "      <td>NaN</td>\n",
       "      <td>NaN</td>\n",
       "      <td>NaN</td>\n",
       "      <td>NaN</td>\n",
       "      <td>NaN</td>\n",
       "      <td>1992.0</td>\n",
       "      <td>NaN</td>\n",
       "      <td>46</td>\n",
       "      <td>NaN</td>\n",
       "    </tr>\n",
       "    <tr>\n",
       "      <th>63</th>\n",
       "      <td>3</td>\n",
       "      <td>turner, r</td>\n",
       "      <td>NaN</td>\n",
       "      <td>2003.0</td>\n",
       "      <td>NaN</td>\n",
       "      <td>1993.0</td>\n",
       "      <td>1947</td>\n",
       "      <td>NaN</td>\n",
       "      <td>NaN</td>\n",
       "      <td>NaN</td>\n",
       "      <td>...</td>\n",
       "      <td>1949</td>\n",
       "      <td>NaN</td>\n",
       "      <td>NaN</td>\n",
       "      <td>NaN</td>\n",
       "      <td>NaN</td>\n",
       "      <td>NaN</td>\n",
       "      <td>1989.0</td>\n",
       "      <td>NaN</td>\n",
       "      <td>45</td>\n",
       "      <td>NaN</td>\n",
       "    </tr>\n",
       "  </tbody>\n",
       "</table>\n",
       "<p>5 rows × 42 columns</p>\n",
       "</div>"
      ],
      "text/plain": [
       "    maxcount       name  rebirth_5_7  rebirth_5_3  rebirth_5_2  death_2  \\\n",
       "10         4   smith, d          NaN       2007.0          NaN      NaN   \n",
       "41         4   hagan, j          NaN          NaN          NaN      NaN   \n",
       "32         4  portes, a          NaN       1984.0          NaN      NaN   \n",
       "61         5    burt, r          NaN          NaN          NaN   2005.0   \n",
       "63         3  turner, r          NaN       2003.0          NaN   1993.0   \n",
       "\n",
       "    first  rebirth_2_5  rebirth_3_5  rebirth_1_20  ...  maxpropy  \\\n",
       "10   1965          NaN          NaN           NaN  ...      1966   \n",
       "41   1973          NaN          NaN           NaN  ...      1977   \n",
       "32   1968          NaN          NaN           NaN  ...      1972   \n",
       "61   1973          NaN          NaN           NaN  ...      1980   \n",
       "63   1947          NaN          NaN           NaN  ...      1949   \n",
       "\n",
       "    rebirth_0_20  rebirth_5_1  rebirth_5_6  rebirth_5_8  rebirth_3_20  \\\n",
       "10           NaN          NaN          NaN          NaN           NaN   \n",
       "41           NaN          NaN          NaN          NaN           NaN   \n",
       "32           NaN          NaN          NaN          NaN           NaN   \n",
       "61           NaN          NaN          NaN          NaN           NaN   \n",
       "63           NaN          NaN          NaN          NaN           NaN   \n",
       "\n",
       "    death_5  rebirth_0_5  total  rebirth_0_10  \n",
       "10   1997.0          NaN     61           NaN  \n",
       "41      NaN          NaN     59           NaN  \n",
       "32   1973.0          NaN     46           NaN  \n",
       "61   1992.0          NaN     46           NaN  \n",
       "63   1989.0          NaN     45           NaN  \n",
       "\n",
       "[5 rows x 42 columns]"
      ]
     },
     "execution_count": 9,
     "metadata": {},
     "output_type": "execute_result"
    }
   ],
   "source": [
    "alldf.sort_values(\"total\", ascending=False).head()"
   ]
  },
  {
   "cell_type": "code",
   "execution_count": 10,
   "metadata": {
    "execution": {
     "iopub.execute_input": "2020-06-09T22:33:03.349004Z",
     "iopub.status.busy": "2020-06-09T22:33:03.349004Z",
     "iopub.status.idle": "2020-06-09T22:33:03.419815Z",
     "shell.execute_reply": "2020-06-09T22:33:03.419815Z"
    },
    "papermill": {
     "duration": 0.08645,
     "end_time": "2020-06-09T22:33:03.419815",
     "exception": false,
     "start_time": "2020-06-09T22:33:03.333365",
     "status": "completed"
    },
    "tags": []
   },
   "outputs": [],
   "source": [
    "save_variable(\"%s.%s.top1\" % (database_name,ctype), alldf)"
   ]
  }
 ],
 "metadata": {
  "kernelspec": {
   "display_name": "Python 3",
   "language": "python",
   "name": "python3"
  },
  "language_info": {
   "codemirror_mode": {
    "name": "ipython",
    "version": 3
   },
   "file_extension": ".py",
   "mimetype": "text/x-python",
   "name": "python",
   "nbconvert_exporter": "python",
   "pygments_lexer": "ipython3",
   "version": "3.7.5"
  },
  "papermill": {
   "duration": 4.181112,
   "end_time": "2020-06-09T22:33:03.586507",
   "environment_variables": {},
   "exception": null,
   "input_path": "G:\\My Drive\\projects\\qualitative analysis of literature\\post 5-12-2020\\git repository _ citation-deaths\\knowknow\\creating variables\\top percent cited in decade (top1).ipynb",
   "output_path": "G:\\My Drive\\projects\\qualitative analysis of literature\\post 5-12-2020\\git repository _ citation-deaths\\knowknow\\creating variables\\top percent cited in decade (top1).ipynb",
   "parameters": {
    "ctype": "ffa",
    "database_name": "sociology-wos"
   },
   "start_time": "2020-06-09T22:32:59.405395",
   "version": "2.1.1"
  }
 },
 "nbformat": 4,
 "nbformat_minor": 4
}