{
 "cells": [
  {
   "cell_type": "code",
   "execution_count": 1,
   "metadata": {},
   "outputs": [],
   "source": [
    "import sys; sys.path.append(_dh[0].split(\"knowknow\")[0])\n",
    "from knowknow import *\n",
    "\n",
    "database_name = 'sociology-wos-all'"
   ]
  },
  {
   "cell_type": "code",
   "execution_count": 2,
   "metadata": {},
   "outputs": [],
   "source": [
    "import string_grouper\n",
    "import editdistance"
   ]
  },
  {
   "cell_type": "code",
   "execution_count": 3,
   "metadata": {},
   "outputs": [],
   "source": [
    "# the final variable we are constructing\n",
    "groups = {}\n",
    "\n",
    "# tracks the last group-id assigned\n",
    "new_gid = 0"
   ]
  },
  {
   "cell_type": "code",
   "execution_count": 7,
   "metadata": {},
   "outputs": [],
   "source": [
    "try:\n",
    "    strings = list(load_variable(\"%s.c.ysum\" % database_name))\n",
    "except VariableNotFound:\n",
    "    print(\"You need to generate ysum before running this notebook.\")"
   ]
  },
  {
   "cell_type": "code",
   "execution_count": 8,
   "metadata": {},
   "outputs": [
    {
     "data": {
      "text/plain": [
       "117200"
      ]
     },
     "execution_count": 8,
     "metadata": {},
     "output_type": "execute_result"
    }
   ],
   "source": [
    "len(strings)"
   ]
  },
  {
   "cell_type": "code",
   "execution_count": 15,
   "metadata": {},
   "outputs": [],
   "source": [
    "def isarticle(x):\n",
    "    sp = x.split(\"|\")\n",
    "    if len(sp) < 2:\n",
    "        return False\n",
    "    \n",
    "    try:\n",
    "        int(sp[1])\n",
    "        return True\n",
    "    except ValueError:\n",
    "        return False\n",
    "\n",
    "strings = [x for x in strings if '[no title captured]' not in x]\n",
    "articles = [x for x in strings if isarticle(x)]\n",
    "books = [x for x in strings if not isarticle(x)]"
   ]
  },
  {
   "cell_type": "code",
   "execution_count": 16,
   "metadata": {},
   "outputs": [
    {
     "data": {
      "text/plain": [
       "['Andrews, F.|1991|measures personality,v1,p61',\n",
       " 'Cummins, R.|2002|universality subject,p7',\n",
       " 'Davern, M.|2007|j happiness stud,v8,p429',\n",
       " 'Deneve, K.|1998|psychol bull,v124,p197',\n",
       " 'Diener, E.|1996|j res pers,v30,p389',\n",
       " 'Diener, E.|1996|psychol sci,v7,p181',\n",
       " 'Diener, E.|2003|annu rev psychol,v54,p403',\n",
       " 'Diener, E.|1984|psychol bull,v95,p542',\n",
       " 'Diener, E.|1994|soc indic res,v31,p103',\n",
       " 'Diener, E.|1999|psychol bull,v125,p276']"
      ]
     },
     "execution_count": 16,
     "metadata": {},
     "output_type": "execute_result"
    }
   ],
   "source": [
    "articles[:10]"
   ]
  },
  {
   "cell_type": "code",
   "execution_count": 17,
   "metadata": {},
   "outputs": [
    {
     "data": {
      "text/plain": [
       "['Andrews, F.|social indicators we',\n",
       " 'Campbell, A.|quality am life perc',\n",
       " 'Costa, P.|revised neo personal',\n",
       " 'Diener, E.|well being fdn hedon',\n",
       " 'Gurin, G.|am view their mental',\n",
       " 'Headey, B.|understanding happin',\n",
       " 'International, W.|pers wellb ind',\n",
       " 'Thompson, B.|exploratory confirma',\n",
       " 'Bellah, R.|habits heart individ',\n",
       " 'Easterlin, R.|nations households e']"
      ]
     },
     "execution_count": 17,
     "metadata": {},
     "output_type": "execute_result"
    }
   ],
   "source": [
    "books[:10]"
   ]
  },
  {
   "cell_type": "code",
   "execution_count": 18,
   "metadata": {},
   "outputs": [
    {
     "name": "stdout",
     "output_type": "stream",
     "text": [
      "70834 articles, 45057 books to group\n"
     ]
    }
   ],
   "source": [
    "print(\"%s articles, %s books to group\" % (len(articles), len(books)))"
   ]
  },
  {
   "cell_type": "markdown",
   "metadata": {},
   "source": [
    "# grouping books"
   ]
  },
  {
   "cell_type": "code",
   "execution_count": 19,
   "metadata": {},
   "outputs": [],
   "source": [
    "# this cell may take quite a while to run.\n",
    "# on Intel i7-9700F this runs in about a minute on 185k names.\n",
    "\n",
    "books_grouped = string_grouper.match_strings(\n",
    "    pd.Series(books), \n",
    "    number_of_processes=8, \n",
    "    min_similarity=0.7\n",
    ")"
   ]
  },
  {
   "cell_type": "code",
   "execution_count": 20,
   "metadata": {},
   "outputs": [
    {
     "data": {
      "text/html": [
       "<div>\n",
       "<style scoped>\n",
       "    .dataframe tbody tr th:only-of-type {\n",
       "        vertical-align: middle;\n",
       "    }\n",
       "\n",
       "    .dataframe tbody tr th {\n",
       "        vertical-align: top;\n",
       "    }\n",
       "\n",
       "    .dataframe thead th {\n",
       "        text-align: right;\n",
       "    }\n",
       "</style>\n",
       "<table border=\"1\" class=\"dataframe\">\n",
       "  <thead>\n",
       "    <tr style=\"text-align: right;\">\n",
       "      <th></th>\n",
       "      <th>left_side</th>\n",
       "      <th>right_side</th>\n",
       "      <th>similarity</th>\n",
       "    </tr>\n",
       "  </thead>\n",
       "  <tbody>\n",
       "    <tr>\n",
       "      <th>32939</th>\n",
       "      <td>Shalin, D.|blackwell companion</td>\n",
       "      <td>Hunt, S.|blackwell companion</td>\n",
       "      <td>0.700002</td>\n",
       "    </tr>\n",
       "    <tr>\n",
       "      <th>7523</th>\n",
       "      <td>Hunt, S.|blackwell companion</td>\n",
       "      <td>Shalin, D.|blackwell companion</td>\n",
       "      <td>0.700002</td>\n",
       "    </tr>\n",
       "    <tr>\n",
       "      <th>17437</th>\n",
       "      <td>Reskin, B.|sex segregation work</td>\n",
       "      <td>Baron, J.|sex segregation work</td>\n",
       "      <td>0.700004</td>\n",
       "    </tr>\n",
       "    <tr>\n",
       "      <th>11952</th>\n",
       "      <td>Baron, J.|sex segregation work</td>\n",
       "      <td>Reskin, B.|sex segregation work</td>\n",
       "      <td>0.700004</td>\n",
       "    </tr>\n",
       "    <tr>\n",
       "      <th>21770</th>\n",
       "      <td>Hobsbawm, E.|nations natl since 1</td>\n",
       "      <td>Hobsbawm, E.|nations natl 1780</td>\n",
       "      <td>0.700015</td>\n",
       "    </tr>\n",
       "    <tr>\n",
       "      <th>...</th>\n",
       "      <td>...</td>\n",
       "      <td>...</td>\n",
       "      <td>...</td>\n",
       "    </tr>\n",
       "    <tr>\n",
       "      <th>21980</th>\n",
       "      <td>Lockwood, D.|blackcoated worker s</td>\n",
       "      <td>Lockwood, D.|blackcoated worker</td>\n",
       "      <td>0.993794</td>\n",
       "    </tr>\n",
       "    <tr>\n",
       "      <th>21979</th>\n",
       "      <td>Lockwood, D.|blackcoated worker s</td>\n",
       "      <td>Lockwood, D.|black coated worker</td>\n",
       "      <td>0.993794</td>\n",
       "    </tr>\n",
       "    <tr>\n",
       "      <th>11796</th>\n",
       "      <td>Lockwood, D.|blackcoated worker</td>\n",
       "      <td>Lockwood, D.|blackcoated worker s</td>\n",
       "      <td>0.993794</td>\n",
       "    </tr>\n",
       "    <tr>\n",
       "      <th>1308</th>\n",
       "      <td>Popper, K.|conjectures refutati</td>\n",
       "      <td>Popper, K.|conjectures refutat</td>\n",
       "      <td>0.994171</td>\n",
       "    </tr>\n",
       "    <tr>\n",
       "      <th>35797</th>\n",
       "      <td>Popper, K.|conjectures refutat</td>\n",
       "      <td>Popper, K.|conjectures refutati</td>\n",
       "      <td>0.994171</td>\n",
       "    </tr>\n",
       "  </tbody>\n",
       "</table>\n",
       "<p>11070 rows × 3 columns</p>\n",
       "</div>"
      ],
      "text/plain": [
       "                               left_side                         right_side  \\\n",
       "32939     Shalin, D.|blackwell companion       Hunt, S.|blackwell companion   \n",
       "7523        Hunt, S.|blackwell companion     Shalin, D.|blackwell companion   \n",
       "17437    Reskin, B.|sex segregation work     Baron, J.|sex segregation work   \n",
       "11952     Baron, J.|sex segregation work    Reskin, B.|sex segregation work   \n",
       "21770  Hobsbawm, E.|nations natl since 1     Hobsbawm, E.|nations natl 1780   \n",
       "...                                  ...                                ...   \n",
       "21980  Lockwood, D.|blackcoated worker s    Lockwood, D.|blackcoated worker   \n",
       "21979  Lockwood, D.|blackcoated worker s   Lockwood, D.|black coated worker   \n",
       "11796    Lockwood, D.|blackcoated worker  Lockwood, D.|blackcoated worker s   \n",
       "1308     Popper, K.|conjectures refutati     Popper, K.|conjectures refutat   \n",
       "35797     Popper, K.|conjectures refutat    Popper, K.|conjectures refutati   \n",
       "\n",
       "       similarity  \n",
       "32939    0.700002  \n",
       "7523     0.700002  \n",
       "17437    0.700004  \n",
       "11952    0.700004  \n",
       "21770    0.700015  \n",
       "...           ...  \n",
       "21980    0.993794  \n",
       "21979    0.993794  \n",
       "11796    0.993794  \n",
       "1308     0.994171  \n",
       "35797    0.994171  \n",
       "\n",
       "[11070 rows x 3 columns]"
      ]
     },
     "execution_count": 20,
     "metadata": {},
     "output_type": "execute_result"
    }
   ],
   "source": [
    "books_grouped[(books_grouped.similarity<1-1e-8)].sort_values(\"similarity\")"
   ]
  },
  {
   "cell_type": "code",
   "execution_count": 21,
   "metadata": {},
   "outputs": [
    {
     "name": "stdout",
     "output_type": "stream",
     "text": [
      "6941 books have some connection to others in a group\n"
     ]
    }
   ],
   "source": [
    "# for books, we require that the authors are no more than 1 edit from each other\n",
    "# even after limiting the comparisons necessary, this takes about 20s on Intel i7-9700F\n",
    "\n",
    "ft = defaultdict(set)\n",
    "\n",
    "for i,r in books_grouped.iterrows():\n",
    "    ls = r.left_side\n",
    "    rs = r.right_side\n",
    "    \n",
    "    if ls == rs:\n",
    "        continue\n",
    "    \n",
    "    la = ls.split(\"|\")[0]\n",
    "    ra = rs.split(\"|\")[0]\n",
    "    \n",
    "    if editdistance.eval(la,ra) > 1:\n",
    "        continue\n",
    "    \n",
    "    ft[ls].add(rs)\n",
    "    ft[rs].add(ls)\n",
    "    \n",
    "print(\"%s books have some connection to others in a group\" % len(ft))"
   ]
  },
  {
   "cell_type": "code",
   "execution_count": 22,
   "metadata": {},
   "outputs": [],
   "source": [
    "# assigns group-ids based on the relational structure derived thus far\n",
    "# the code propagates ids through the network, assuming transitivity of equality\n",
    "\n",
    "def traverse(x, gid):\n",
    "    global groups\n",
    "    groups[x] = gid\n",
    "    \n",
    "    neighbors = ft[x]\n",
    "    for n in neighbors:\n",
    "        if n not in groups:\n",
    "            traverse(n, gid)\n",
    "      \n",
    "for i,k in enumerate(books):\n",
    "    if k in groups:\n",
    "        continue\n",
    "        \n",
    "    traverse(k, new_gid)\n",
    "    new_gid += 1"
   ]
  },
  {
   "cell_type": "code",
   "execution_count": 23,
   "metadata": {},
   "outputs": [
    {
     "data": {
      "text/plain": [
       "41195"
      ]
     },
     "execution_count": 23,
     "metadata": {},
     "output_type": "execute_result"
    }
   ],
   "source": [
    "len(set(groups.values()))"
   ]
  },
  {
   "cell_type": "code",
   "execution_count": 24,
   "metadata": {},
   "outputs": [
    {
     "data": {
      "text/plain": [
       "[(495, 21),\n",
       " (396, 19),\n",
       " (605, 11),\n",
       " (1386, 11),\n",
       " (1924, 10),\n",
       " (163, 9),\n",
       " (2219, 9),\n",
       " (4411, 9),\n",
       " (1997, 8),\n",
       " (672, 7)]"
      ]
     },
     "execution_count": 24,
     "metadata": {},
     "output_type": "execute_result"
    }
   ],
   "source": [
    "Counter(gid for x,gid in groups.items() if len(x.split(\"|\"))==2).most_common(10)"
   ]
  },
  {
   "cell_type": "markdown",
   "metadata": {},
   "source": [
    "# grouping articles"
   ]
  },
  {
   "cell_type": "code",
   "execution_count": 25,
   "metadata": {},
   "outputs": [],
   "source": [
    "# this cell may take quite a while to run.\n",
    "# on Intel i7-9700F this runs in five minutes on 234k entries.\n",
    "\n",
    "articles_grouped = string_grouper.match_strings(\n",
    "    pd.Series(articles), \n",
    "    number_of_processes=8, # decrease this number to 1 or 2 for slower computers or laptops (the fan might start screaming)\n",
    "    min_similarity=0.8 # the similarity cutoff is tighter for articles than for books\n",
    ")"
   ]
  },
  {
   "cell_type": "code",
   "execution_count": 26,
   "metadata": {},
   "outputs": [
    {
     "data": {
      "text/html": [
       "<div>\n",
       "<style scoped>\n",
       "    .dataframe tbody tr th:only-of-type {\n",
       "        vertical-align: middle;\n",
       "    }\n",
       "\n",
       "    .dataframe tbody tr th {\n",
       "        vertical-align: top;\n",
       "    }\n",
       "\n",
       "    .dataframe thead th {\n",
       "        text-align: right;\n",
       "    }\n",
       "</style>\n",
       "<table border=\"1\" class=\"dataframe\">\n",
       "  <thead>\n",
       "    <tr style=\"text-align: right;\">\n",
       "      <th></th>\n",
       "      <th>left_side</th>\n",
       "      <th>right_side</th>\n",
       "      <th>similarity</th>\n",
       "    </tr>\n",
       "  </thead>\n",
       "  <tbody>\n",
       "    <tr>\n",
       "      <th>10579</th>\n",
       "      <td>Chirkov, V.|2007|int j intercult rel,v31,p199</td>\n",
       "      <td>Chirkov, V.|2005|int j intercult rel,v29,p469</td>\n",
       "      <td>0.800020</td>\n",
       "    </tr>\n",
       "    <tr>\n",
       "      <th>21924</th>\n",
       "      <td>Chirkov, V.|2005|int j intercult rel,v29,p469</td>\n",
       "      <td>Chirkov, V.|2007|int j intercult rel,v31,p199</td>\n",
       "      <td>0.800020</td>\n",
       "    </tr>\n",
       "    <tr>\n",
       "      <th>48091</th>\n",
       "      <td>Immergluck, D.|2010|urban aff rev,v46,p3</td>\n",
       "      <td>Immergluck, D.|2005|urban aff rev,v40,p362</td>\n",
       "      <td>0.800080</td>\n",
       "    </tr>\n",
       "    <tr>\n",
       "      <th>48088</th>\n",
       "      <td>Immergluck, D.|2005|urban aff rev,v40,p362</td>\n",
       "      <td>Immergluck, D.|2010|urban aff rev,v46,p3</td>\n",
       "      <td>0.800080</td>\n",
       "    </tr>\n",
       "    <tr>\n",
       "      <th>18569</th>\n",
       "      <td>Stockdale, A.|2006|j rural stud,v22,p354</td>\n",
       "      <td>Stockdale, A.|2010|j rural stud,v26,p31</td>\n",
       "      <td>0.800103</td>\n",
       "    </tr>\n",
       "    <tr>\n",
       "      <th>...</th>\n",
       "      <td>...</td>\n",
       "      <td>...</td>\n",
       "      <td>...</td>\n",
       "    </tr>\n",
       "    <tr>\n",
       "      <th>48051</th>\n",
       "      <td>Vallin, J.|2004|special collection,v2,p11</td>\n",
       "      <td>Vallin, J.|2004|special collection,v2,p1</td>\n",
       "      <td>0.989373</td>\n",
       "    </tr>\n",
       "    <tr>\n",
       "      <th>36038</th>\n",
       "      <td>Biderman, A.|1967|ann am acad polit ss,v374,p1</td>\n",
       "      <td>Biderman, A.|1967|ann am acad polit ss,v374,p16</td>\n",
       "      <td>0.989439</td>\n",
       "    </tr>\n",
       "    <tr>\n",
       "      <th>56588</th>\n",
       "      <td>Biderman, A.|1967|ann am acad polit ss,v374,p16</td>\n",
       "      <td>Biderman, A.|1967|ann am acad polit ss,v374,p1</td>\n",
       "      <td>0.989439</td>\n",
       "    </tr>\n",
       "    <tr>\n",
       "      <th>44933</th>\n",
       "      <td>Portes, A.|1980|soc forces,v59,p200</td>\n",
       "      <td>Portes, A.|1980|soc forces,v59,p201</td>\n",
       "      <td>0.991548</td>\n",
       "    </tr>\n",
       "    <tr>\n",
       "      <th>27703</th>\n",
       "      <td>Portes, A.|1980|soc forces,v59,p201</td>\n",
       "      <td>Portes, A.|1980|soc forces,v59,p200</td>\n",
       "      <td>0.991548</td>\n",
       "    </tr>\n",
       "  </tbody>\n",
       "</table>\n",
       "<p>4048 rows × 3 columns</p>\n",
       "</div>"
      ],
      "text/plain": [
       "                                             left_side  \\\n",
       "10579    Chirkov, V.|2007|int j intercult rel,v31,p199   \n",
       "21924    Chirkov, V.|2005|int j intercult rel,v29,p469   \n",
       "48091         Immergluck, D.|2010|urban aff rev,v46,p3   \n",
       "48088       Immergluck, D.|2005|urban aff rev,v40,p362   \n",
       "18569         Stockdale, A.|2006|j rural stud,v22,p354   \n",
       "...                                                ...   \n",
       "48051        Vallin, J.|2004|special collection,v2,p11   \n",
       "36038   Biderman, A.|1967|ann am acad polit ss,v374,p1   \n",
       "56588  Biderman, A.|1967|ann am acad polit ss,v374,p16   \n",
       "44933              Portes, A.|1980|soc forces,v59,p200   \n",
       "27703              Portes, A.|1980|soc forces,v59,p201   \n",
       "\n",
       "                                            right_side  similarity  \n",
       "10579    Chirkov, V.|2005|int j intercult rel,v29,p469    0.800020  \n",
       "21924    Chirkov, V.|2007|int j intercult rel,v31,p199    0.800020  \n",
       "48091       Immergluck, D.|2005|urban aff rev,v40,p362    0.800080  \n",
       "48088         Immergluck, D.|2010|urban aff rev,v46,p3    0.800080  \n",
       "18569          Stockdale, A.|2010|j rural stud,v26,p31    0.800103  \n",
       "...                                                ...         ...  \n",
       "48051         Vallin, J.|2004|special collection,v2,p1    0.989373  \n",
       "36038  Biderman, A.|1967|ann am acad polit ss,v374,p16    0.989439  \n",
       "56588   Biderman, A.|1967|ann am acad polit ss,v374,p1    0.989439  \n",
       "44933              Portes, A.|1980|soc forces,v59,p201    0.991548  \n",
       "27703              Portes, A.|1980|soc forces,v59,p200    0.991548  \n",
       "\n",
       "[4048 rows x 3 columns]"
      ]
     },
     "execution_count": 26,
     "metadata": {},
     "output_type": "execute_result"
    }
   ],
   "source": [
    "articles_grouped[(articles_grouped.similarity<1-1e-8)].sort_values(\"similarity\")"
   ]
  },
  {
   "cell_type": "code",
   "execution_count": 27,
   "metadata": {},
   "outputs": [
    {
     "name": "stdout",
     "output_type": "stream",
     "text": [
      "564 articles have some connection to others in a group\n"
     ]
    }
   ],
   "source": [
    "# for articles, we require that the entire citations is only 1 edit apart.\n",
    "# even after limiting the comparisons necessary, this takes about 20s on Intel i7-9700F\n",
    "\n",
    "# this cell produces the `ft` variable, which maps from each term to the set of terms equivalent. I.e., `ft[A] = {B1,B2,B3}`\n",
    "\n",
    "ft = defaultdict(set)\n",
    "\n",
    "for i,r in articles_grouped.iterrows():\n",
    "    ls = r.left_side\n",
    "    rs = r.right_side\n",
    "    \n",
    "    if ls == rs:\n",
    "        continue\n",
    "    \n",
    "    la = ls.split(\"|\")[0]\n",
    "    ra = rs.split(\"|\")[0]\n",
    "        \n",
    "    if editdistance.eval(ls,rs) > 1:\n",
    "        continue\n",
    "    \n",
    "    ft[ls].add(rs)\n",
    "    ft[rs].add(ls)\n",
    "    #print(ls,\"|||\",rs)\n",
    "\n",
    "print(\"%s articles have some connection to others in a group\" % len(ft))"
   ]
  },
  {
   "cell_type": "code",
   "execution_count": 28,
   "metadata": {},
   "outputs": [],
   "source": [
    "# assigns group-ids based on the relational structure derived thus far\n",
    "# the code propagates ids through the network, assuming transitivity of equality\n",
    "\n",
    "def traverse(x, gid):\n",
    "    global groups\n",
    "    groups[x] = gid\n",
    "    \n",
    "    neighbors = ft[x]\n",
    "    for n in neighbors:\n",
    "        if n not in groups:\n",
    "            traverse(n, gid)\n",
    "\n",
    "for i,k in enumerate(articles):\n",
    "    if k in groups:\n",
    "        continue\n",
    "        \n",
    "    traverse(k, new_gid)\n",
    "    new_gid += 1"
   ]
  },
  {
   "cell_type": "code",
   "execution_count": 29,
   "metadata": {},
   "outputs": [],
   "source": [
    "# this line will break execution if there aren't as many groups assigned as we have articles and books\n",
    "assert( len(articles) + len(books) == len(groups) )"
   ]
  },
  {
   "cell_type": "code",
   "execution_count": 30,
   "metadata": {},
   "outputs": [
    {
     "data": {
      "text/plain": [
       "111731"
      ]
     },
     "execution_count": 30,
     "metadata": {},
     "output_type": "execute_result"
    }
   ],
   "source": [
    "len(set(groups.values()))"
   ]
  },
  {
   "cell_type": "code",
   "execution_count": 31,
   "metadata": {},
   "outputs": [
    {
     "data": {
      "text/plain": [
       "40897"
      ]
     },
     "execution_count": 31,
     "metadata": {},
     "output_type": "execute_result"
    }
   ],
   "source": [
    "len(set(groups.values())) - len(articles)"
   ]
  },
  {
   "cell_type": "code",
   "execution_count": 32,
   "metadata": {},
   "outputs": [
    {
     "data": {
      "text/plain": [
       "-4160"
      ]
     },
     "execution_count": 32,
     "metadata": {},
     "output_type": "execute_result"
    }
   ],
   "source": [
    "len(set(groups.values())) - len(books) - len(articles)"
   ]
  },
  {
   "cell_type": "code",
   "execution_count": 33,
   "metadata": {},
   "outputs": [
    {
     "data": {
      "text/plain": [
       "45057"
      ]
     },
     "execution_count": 33,
     "metadata": {},
     "output_type": "execute_result"
    }
   ],
   "source": [
    "len(books)"
   ]
  },
  {
   "cell_type": "code",
   "execution_count": 34,
   "metadata": {},
   "outputs": [
    {
     "data": {
      "text/plain": [
       "70834"
      ]
     },
     "execution_count": 34,
     "metadata": {},
     "output_type": "execute_result"
    }
   ],
   "source": [
    "len(articles)"
   ]
  },
  {
   "cell_type": "code",
   "execution_count": 35,
   "metadata": {},
   "outputs": [],
   "source": [
    "# saving the variable for later\n",
    "save_variable(\"%s.groups\" % database_name, groups)"
   ]
  },
  {
   "cell_type": "markdown",
   "metadata": {},
   "source": [
    "# sanity checks"
   ]
  },
  {
   "cell_type": "code",
   "execution_count": null,
   "metadata": {},
   "outputs": [],
   "source": [
    "g = load_variable(\"%s.groups\" % database_name)"
   ]
  },
  {
   "cell_type": "code",
   "execution_count": null,
   "metadata": {},
   "outputs": [],
   "source": [
    "len(g)"
   ]
  },
  {
   "cell_type": "code",
   "execution_count": null,
   "metadata": {},
   "outputs": [],
   "source": [
    "Counter([g[x] for x in groups if len(x.split(\"|\"))>2]).most_common(10)"
   ]
  },
  {
   "cell_type": "code",
   "execution_count": null,
   "metadata": {},
   "outputs": [],
   "source": [
    "len(set(g.values())) - len(g)"
   ]
  },
  {
   "cell_type": "code",
   "execution_count": null,
   "metadata": {},
   "outputs": [],
   "source": [
    "len(set(g.values()))"
   ]
  },
  {
   "cell_type": "code",
   "execution_count": null,
   "metadata": {},
   "outputs": [],
   "source": [
    "cits = get_cnt('sociology-wos.ind', ['c','c.fy'])"
   ]
  },
  {
   "cell_type": "code",
   "execution_count": null,
   "metadata": {},
   "outputs": [],
   "source": [
    "sum(cits['c.fy'].values())"
   ]
  },
  {
   "cell_type": "code",
   "execution_count": null,
   "metadata": {},
   "outputs": [],
   "source": [
    "next(gi)"
   ]
  },
  {
   "cell_type": "code",
   "execution_count": null,
   "metadata": {},
   "outputs": [],
   "source": [
    "mygrp"
   ]
  },
  {
   "cell_type": "code",
   "execution_count": null,
   "metadata": {},
   "outputs": [],
   "source": []
  },
  {
   "cell_type": "code",
   "execution_count": null,
   "metadata": {},
   "outputs": [],
   "source": [
    "list(cits['c.fy'].items())[:5]"
   ]
  },
  {
   "cell_type": "code",
   "execution_count": null,
   "metadata": {},
   "outputs": [],
   "source": [
    "list(g)[:5]"
   ]
  },
  {
   "cell_type": "code",
   "execution_count": null,
   "metadata": {},
   "outputs": [],
   "source": [
    "g['bourdieu|distinction social c']"
   ]
  },
  {
   "cell_type": "code",
   "execution_count": null,
   "metadata": {},
   "outputs": [],
   "source": [
    "import json\n",
    "\n",
    "to_print = sorted( cits['c'].items(), key=lambda x:-x[1] )[:20]\n",
    "to_print = [x[0] for x in to_print]"
   ]
  },
  {
   "cell_type": "code",
   "execution_count": null,
   "metadata": {},
   "outputs": [],
   "source": [
    "[x for x in g if 'bourd' in x]"
   ]
  },
  {
   "cell_type": "code",
   "execution_count": null,
   "metadata": {},
   "outputs": [],
   "source": [
    "list(cits['c.fy'])[:5]"
   ]
  },
  {
   "cell_type": "code",
   "execution_count": null,
   "metadata": {},
   "outputs": [],
   "source": [
    "cits['c'][('bourdieu|logic practice',)]"
   ]
  },
  {
   "cell_type": "code",
   "execution_count": null,
   "metadata": {},
   "outputs": [],
   "source": []
  },
  {
   "cell_type": "code",
   "execution_count": null,
   "metadata": {},
   "outputs": [],
   "source": [
    "to_print"
   ]
  },
  {
   "cell_type": "code",
   "execution_count": null,
   "metadata": {},
   "outputs": [],
   "source": [
    "printed_i = 0\n",
    "checking_j = 0\n",
    "\n",
    "\n",
    "while printed_i < 5:\n",
    "    mine = [k for k in g if g[k]==checking_j]\n",
    "    myvals = [cits['c'][(k,)] for k in mine]\n",
    "    if sum( myvals ) > 0:\n",
    "        print(\"%s (%s)\" % (k,x) for x in zip(mine,myvals))\n",
    "        printed_i += 1\n",
    "    \n",
    "    checking_j += 1"
   ]
  },
  {
   "cell_type": "code",
   "execution_count": null,
   "metadata": {},
   "outputs": [],
   "source": []
  }
 ],
 "metadata": {
  "kernelspec": {
   "display_name": "Python 3",
   "language": "python",
   "name": "python3"
  },
  "language_info": {
   "codemirror_mode": {
    "name": "ipython",
    "version": 3
   },
   "file_extension": ".py",
   "mimetype": "text/x-python",
   "name": "python",
   "nbconvert_exporter": "python",
   "pygments_lexer": "ipython3",
   "version": "3.7.5"
  }
 },
 "nbformat": 4,
 "nbformat_minor": 4
}
