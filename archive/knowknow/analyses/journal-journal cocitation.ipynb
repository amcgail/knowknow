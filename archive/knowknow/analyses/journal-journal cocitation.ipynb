{
 "cells": [
  {
   "cell_type": "code",
   "execution_count": 2,
   "metadata": {},
   "outputs": [],
   "source": [
    "import sys; sys.path.append(_dh[0].split(\"knowknow\")[0])\n",
    "from knowknow import *"
   ]
  },
  {
   "cell_type": "code",
   "execution_count": 3,
   "metadata": {},
   "outputs": [],
   "source": [
    "database_name = \"sociology-wos\""
   ]
  },
  {
   "cell_type": "code",
   "execution_count": 6,
   "metadata": {},
   "outputs": [
    {
     "name": "stdout",
     "output_type": "stream",
     "text": [
      "Loaded keys: dict_keys(['fy', 'c.fj', 'fj'])\n",
      "Available keys: ['c', 'c.fj', 'c.fy', 'c.fy.j', 'fa', 'fa.c', 'fa.fj', 'fa.fj.fy', 'fa.fy', 'fj', 'fj.fy', 'fj.ta', 'fj.ty', 'fy', 'fy.ta', 'fy.ty', 'ta', 'ty']\n"
     ]
    }
   ],
   "source": [
    "cnt = get_cnt('%s.doc'%database_name, ['fy','c.fj','fj'])"
   ]
  },
  {
   "cell_type": "code",
   "execution_count": 7,
   "metadata": {},
   "outputs": [
    {
     "data": {
      "text/plain": [
       "[fj(fj='SOCIAL INDICATORS RESEARCH'),\n",
       " fj(fj='SOCIAL NETWORKS'),\n",
       " fj(fj='SOCIAL SCIENCE RESEARCH'),\n",
       " fj(fj='SOCIETY & NATURAL RESOURCES'),\n",
       " fj(fj='SOCIOLOGIA RURALIS')]"
      ]
     },
     "execution_count": 7,
     "metadata": {},
     "output_type": "execute_result"
    }
   ],
   "source": [
    "list(cnt['fj'])[:5]"
   ]
  },
  {
   "cell_type": "code",
   "execution_count": 9,
   "metadata": {},
   "outputs": [],
   "source": [
    "jj_counter = defaultdict(int)\n",
    "\n",
    "for (j1,) in cnt['fj']:\n",
    "    \n",
    "    for (c2,j2),count2 in cnt['c.fj'].items():\n",
    "        \n",
    "        # undirected edges\n",
    "        if j1 >= j2:\n",
    "            continue\n",
    "        \n",
    "        if (c2,j1) not in cnt['c.fj']:\n",
    "            continue\n",
    "            \n",
    "        count1 = cnt['c.fj'][(c2,j1)]\n",
    "        cc = count1 * count2\n",
    "        \n",
    "        jj_counter[(j1,j2)] += cc"
   ]
  },
  {
   "cell_type": "code",
   "execution_count": 15,
   "metadata": {},
   "outputs": [],
   "source": [
    "# cosine similarity\n",
    "jmag = {j: np.sqrt(\n",
    "    np.sum([\n",
    "        count**2\n",
    "        for (_,fj),count in cnt['c.fj'].items() \n",
    "        if fj==j\n",
    "    ])\n",
    ") for (j,) in cnt['fj']}"
   ]
  },
  {
   "cell_type": "code",
   "execution_count": 19,
   "metadata": {},
   "outputs": [],
   "source": [
    "from csv import writer\n",
    "with open('jj_net.csv', 'w', encoding='utf8') as cf:\n",
    "    w = writer(cf)\n",
    "    w.writerow(['Source','Target','weight'])\n",
    "    for (j1,j2),c in jj_counter.items():\n",
    "        w.writerow([j1,j2,c / (jmag[j1]*jmag[j2])])"
   ]
  },
  {
   "cell_type": "code",
   "execution_count": null,
   "metadata": {},
   "outputs": [],
   "source": []
  }
 ],
 "metadata": {
  "kernelspec": {
   "display_name": "Python 3",
   "language": "python",
   "name": "python3"
  },
  "language_info": {
   "codemirror_mode": {
    "name": "ipython",
    "version": 3
   },
   "file_extension": ".py",
   "mimetype": "text/x-python",
   "name": "python",
   "nbconvert_exporter": "python",
   "pygments_lexer": "ipython3",
   "version": "3.7.5"
  }
 },
 "nbformat": 4,
 "nbformat_minor": 4
}
