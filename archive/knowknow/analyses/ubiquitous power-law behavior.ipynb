{
 "cells": [
  {
   "cell_type": "code",
   "execution_count": 1,
   "metadata": {
    "papermill": {
     "duration": 1.014413,
     "end_time": "2020-05-25T08:57:28.429136",
     "exception": false,
     "start_time": "2020-05-25T08:57:27.414723",
     "status": "completed"
    },
    "tags": []
   },
   "outputs": [],
   "source": [
    "import sys; sys.path.append(_dh[0].split(\"knowknow\")[0])\n",
    "from knowknow import *"
   ]
  },
  {
   "cell_type": "markdown",
   "metadata": {
    "papermill": {
     "duration": 0.010972,
     "end_time": "2020-05-25T08:57:28.452075",
     "exception": false,
     "start_time": "2020-05-25T08:57:28.441103",
     "status": "completed"
    },
    "tags": []
   },
   "source": [
    "# cited works"
   ]
  },
  {
   "cell_type": "code",
   "execution_count": 2,
   "metadata": {
    "papermill": {
     "duration": 0.015957,
     "end_time": "2020-05-25T08:57:28.480000",
     "exception": false,
     "start_time": "2020-05-25T08:57:28.464043",
     "status": "completed"
    },
    "tags": [
     "parameters"
    ]
   },
   "outputs": [],
   "source": [
    "database_name = \"sociology-wos\"\n",
    "dtype = 'c'"
   ]
  },
  {
   "cell_type": "code",
   "execution_count": 3,
   "metadata": {
    "execution": {
     "iopub.execute_input": "2020-05-25T08:57:28.504801Z",
     "iopub.status.busy": "2020-05-25T08:57:28.504801Z",
     "iopub.status.idle": "2020-05-25T08:57:28.506796Z",
     "shell.execute_reply": "2020-05-25T08:57:28.506796Z"
    },
    "papermill": {
     "duration": 0.015958,
     "end_time": "2020-05-25T08:57:28.506796",
     "exception": false,
     "start_time": "2020-05-25T08:57:28.490838",
     "status": "completed"
    },
    "tags": [
     "injected-parameters"
    ]
   },
   "outputs": [],
   "source": [
    "# Parameters\n",
    "database_name = \"sociology-jstor\"\n",
    "dtype = \"t\"\n"
   ]
  },
  {
   "cell_type": "code",
   "execution_count": 3,
   "metadata": {
    "papermill": {
     "duration": 0.632343,
     "end_time": "2020-05-25T08:57:29.150123",
     "exception": false,
     "start_time": "2020-05-25T08:57:28.517780",
     "status": "completed"
    },
    "tags": []
   },
   "outputs": [
    {
     "name": "stdout",
     "output_type": "stream",
     "text": [
      "Loaded keys: dict_keys(['c.fy', 'fy', 'c'])\n",
      "Available keys: ['c', 'c.c', 'c.fj', 'c.fy', 'c.fy.j', 'fa', 'fa.c', 'fa.fj', 'fa.fj.fy', 'fa.fy', 'fj', 'fj.fy', 'fj.ta', 'fj.ty', 'fy', 'fy.ta', 'fy.ty', 'ta', 'ty', 'ty.ty']\n"
     ]
    }
   ],
   "source": [
    "cits = get_cnt(\"%s.ind\"%database_name, [comb(dtype,'fy'),'fy',dtype])\n",
    "cysum = load_variable(\"%s.%s.ysum\"%(database_name,dtype))"
   ]
  },
  {
   "cell_type": "code",
   "execution_count": 4,
   "metadata": {
    "papermill": {
     "duration": 0.020729,
     "end_time": "2020-05-25T08:57:29.182818",
     "exception": false,
     "start_time": "2020-05-25T08:57:29.162089",
     "status": "completed"
    },
    "tags": []
   },
   "outputs": [],
   "source": [
    "cc = Counter(int(x['total']) for _,x in cysum.items())\n",
    "counts = []\n",
    "totals = range(0,max(cc.keys())+1)\n",
    "for i in totals:\n",
    "    counts.append(cc[i])"
   ]
  },
  {
   "cell_type": "code",
   "execution_count": 5,
   "metadata": {
    "papermill": {
     "duration": 0.019947,
     "end_time": "2020-05-25T08:57:29.213824",
     "exception": false,
     "start_time": "2020-05-25T08:57:29.193877",
     "status": "completed"
    },
    "tags": []
   },
   "outputs": [
    {
     "name": "stdout",
     "output_type": "stream",
     "text": [
      "5.76% were cited more than 5 times\n"
     ]
    }
   ],
   "source": [
    "# more than 5 times\n",
    "print(\"%0.2f%% were cited more than 5 times\" % (100 * sum(counts[i] for i in totals if i>5)/np.sum(totals)))"
   ]
  },
  {
   "cell_type": "code",
   "execution_count": 6,
   "metadata": {
    "papermill": {
     "duration": 0.126529,
     "end_time": "2020-05-25T08:57:29.352321",
     "exception": false,
     "start_time": "2020-05-25T08:57:29.225792",
     "status": "completed"
    },
    "tags": []
   },
   "outputs": [
    {
     "name": "stderr",
     "output_type": "stream",
     "text": [
      "c:\\users\\amcga\\envs\\citation-deaths\\lib\\site-packages\\ipykernel_launcher.py:3: RuntimeWarning: divide by zero encountered in log10\n",
      "  This is separate from the ipykernel package so we can avoid doing imports until\n"
     ]
    },
    {
     "data": {
      "image/png": "[encoded data removed]",
      "text/plain": [
       "<Figure size 432x288 with 1 Axes>"
      ]
     },
     "metadata": {},
     "output_type": "display_data"
    }
   ],
   "source": [
    "counts = np.array(counts)\n",
    "totals = np.array(totals)\n",
    "plt.plot(np.log10(totals),np.log10(counts))\n",
    "xlab = np.array([1,2,3])\n",
    "plt.xticks(\n",
    "    xlab,\n",
    "    np.power(10, xlab)\n",
    ")\n",
    "ylab = np.array([1,2,3,4,5])\n",
    "plt.yticks(\n",
    "    ylab,\n",
    "    np.power(10, ylab)\n",
    ")\n",
    "\n",
    "plt.ylabel(\"Number of citations\")\n",
    "plt.ylabel(\"Number of cited works\")\n",
    "title = \"Received citations distribution (%s, %s)\" % (database_name,dtype)\n",
    "plt.title(title)\n",
    "\n",
    "save_figure(title)"
   ]
  },
  {
   "cell_type": "code",
   "execution_count": 7,
   "metadata": {
    "papermill": {
     "duration": 0.229151,
     "end_time": "2020-05-25T08:57:29.595436",
     "exception": false,
     "start_time": "2020-05-25T08:57:29.366285",
     "status": "completed"
    },
    "tags": []
   },
   "outputs": [],
   "source": [
    "import statsmodels.api as sm"
   ]
  },
  {
   "cell_type": "code",
   "execution_count": 16,
   "metadata": {
    "papermill": {
     "duration": 0.026821,
     "end_time": "2020-05-25T08:57:29.634225",
     "exception": false,
     "start_time": "2020-05-25T08:57:29.607404",
     "status": "completed"
    },
    "tags": []
   },
   "outputs": [],
   "source": [
    "CUTOFF = 10\n",
    "lt,lc = [x for i,x in enumerate(totals) if (totals[i]>CUTOFF and counts[i]>0)], [x for i,x in enumerate(counts) if (totals[i]>CUTOFF and counts[i]>0)]\n",
    "lt,lc = np.log(lt),np.log(lc)\n",
    "\n",
    "X = sm.add_constant(lt)\n",
    "y = lc\n",
    "\n",
    "mod = sm.OLS(y,X)"
   ]
  },
  {
   "cell_type": "code",
   "execution_count": 17,
   "metadata": {
    "papermill": {
     "duration": 0.018023,
     "end_time": "2020-05-25T08:57:29.665321",
     "exception": false,
     "start_time": "2020-05-25T08:57:29.647298",
     "status": "completed"
    },
    "tags": []
   },
   "outputs": [],
   "source": [
    "res = mod.fit()"
   ]
  },
  {
   "cell_type": "code",
   "execution_count": 18,
   "metadata": {
    "papermill": {
     "duration": 0.024967,
     "end_time": "2020-05-25T08:57:29.728220",
     "exception": false,
     "start_time": "2020-05-25T08:57:29.703253",
     "status": "completed"
    },
    "tags": []
   },
   "outputs": [
    {
     "data": {
      "text/html": [
       "<table class=\"simpletable\">\n",
       "<caption>OLS Regression Results</caption>\n",
       "<tr>\n",
       "  <th>Dep. Variable:</th>            <td>y</td>        <th>  R-squared:         </th> <td>   0.874</td> \n",
       "</tr>\n",
       "<tr>\n",
       "  <th>Model:</th>                   <td>OLS</td>       <th>  Adj. R-squared:    </th> <td>   0.874</td> \n",
       "</tr>\n",
       "<tr>\n",
       "  <th>Method:</th>             <td>Least Squares</td>  <th>  F-statistic:       </th> <td>   2890.</td> \n",
       "</tr>\n",
       "<tr>\n",
       "  <th>Date:</th>             <td>Wed, 27 May 2020</td> <th>  Prob (F-statistic):</th> <td>2.38e-189</td>\n",
       "</tr>\n",
       "<tr>\n",
       "  <th>Time:</th>                 <td>14:39:37</td>     <th>  Log-Likelihood:    </th> <td> -434.23</td> \n",
       "</tr>\n",
       "<tr>\n",
       "  <th>No. Observations:</th>      <td>   418</td>      <th>  AIC:               </th> <td>   872.5</td> \n",
       "</tr>\n",
       "<tr>\n",
       "  <th>Df Residuals:</th>          <td>   416</td>      <th>  BIC:               </th> <td>   880.5</td> \n",
       "</tr>\n",
       "<tr>\n",
       "  <th>Df Model:</th>              <td>     1</td>      <th>                     </th>     <td> </td>    \n",
       "</tr>\n",
       "<tr>\n",
       "  <th>Covariance Type:</th>      <td>nonrobust</td>    <th>                     </th>     <td> </td>    \n",
       "</tr>\n",
       "</table>\n",
       "<table class=\"simpletable\">\n",
       "<tr>\n",
       "    <td></td>       <th>coef</th>     <th>std err</th>      <th>t</th>      <th>P>|t|</th>  <th>[0.025</th>    <th>0.975]</th>  \n",
       "</tr>\n",
       "<tr>\n",
       "  <th>const</th> <td>   11.6858</td> <td>    0.189</td> <td>   61.682</td> <td> 0.000</td> <td>   11.313</td> <td>   12.058</td>\n",
       "</tr>\n",
       "<tr>\n",
       "  <th>x1</th>    <td>   -1.8983</td> <td>    0.035</td> <td>  -53.759</td> <td> 0.000</td> <td>   -1.968</td> <td>   -1.829</td>\n",
       "</tr>\n",
       "</table>\n",
       "<table class=\"simpletable\">\n",
       "<tr>\n",
       "  <th>Omnibus:</th>       <td> 2.073</td> <th>  Durbin-Watson:     </th> <td>   0.492</td>\n",
       "</tr>\n",
       "<tr>\n",
       "  <th>Prob(Omnibus):</th> <td> 0.355</td> <th>  Jarque-Bera (JB):  </th> <td>   1.889</td>\n",
       "</tr>\n",
       "<tr>\n",
       "  <th>Skew:</th>          <td> 0.159</td> <th>  Prob(JB):          </th> <td>   0.389</td>\n",
       "</tr>\n",
       "<tr>\n",
       "  <th>Kurtosis:</th>      <td> 3.083</td> <th>  Cond. No.          </th> <td>    31.3</td>\n",
       "</tr>\n",
       "</table><br/><br/>Warnings:<br/>[1] Standard Errors assume that the covariance matrix of the errors is correctly specified."
      ],
      "text/plain": [
       "<class 'statsmodels.iolib.summary.Summary'>\n",
       "\"\"\"\n",
       "                            OLS Regression Results                            \n",
       "==============================================================================\n",
       "Dep. Variable:                      y   R-squared:                       0.874\n",
       "Model:                            OLS   Adj. R-squared:                  0.874\n",
       "Method:                 Least Squares   F-statistic:                     2890.\n",
       "Date:                Wed, 27 May 2020   Prob (F-statistic):          2.38e-189\n",
       "Time:                        14:39:37   Log-Likelihood:                -434.23\n",
       "No. Observations:                 418   AIC:                             872.5\n",
       "Df Residuals:                     416   BIC:                             880.5\n",
       "Df Model:                           1                                         \n",
       "Covariance Type:            nonrobust                                         \n",
       "==============================================================================\n",
       "                 coef    std err          t      P>|t|      [0.025      0.975]\n",
       "------------------------------------------------------------------------------\n",
       "const         11.6858      0.189     61.682      0.000      11.313      12.058\n",
       "x1            -1.8983      0.035    -53.759      0.000      -1.968      -1.829\n",
       "==============================================================================\n",
       "Omnibus:                        2.073   Durbin-Watson:                   0.492\n",
       "Prob(Omnibus):                  0.355   Jarque-Bera (JB):                1.889\n",
       "Skew:                           0.159   Prob(JB):                        0.389\n",
       "Kurtosis:                       3.083   Cond. No.                         31.3\n",
       "==============================================================================\n",
       "\n",
       "Warnings:\n",
       "[1] Standard Errors assume that the covariance matrix of the errors is correctly specified.\n",
       "\"\"\""
      ]
     },
     "execution_count": 18,
     "metadata": {},
     "output_type": "execute_result"
    }
   ],
   "source": [
    "res.summary()"
   ]
  },
  {
   "cell_type": "code",
   "execution_count": null,
   "metadata": {
    "papermill": {
     "duration": 0.012966,
     "end_time": "2020-05-25T08:57:29.756145",
     "exception": false,
     "start_time": "2020-05-25T08:57:29.743179",
     "status": "completed"
    },
    "tags": []
   },
   "outputs": [],
   "source": []
  }
 ],
 "metadata": {
  "kernelspec": {
   "display_name": "Python 3",
   "language": "python",
   "name": "python3"
  },
  "language_info": {
   "codemirror_mode": {
    "name": "ipython",
    "version": 3
   },
   "file_extension": ".py",
   "mimetype": "text/x-python",
   "name": "python",
   "nbconvert_exporter": "python",
   "pygments_lexer": "ipython3",
   "version": "3.7.5"
  },
  "papermill": {
   "duration": 3.703141,
   "end_time": "2020-05-25T08:57:29.883249",
   "environment_variables": {},
   "exception": null,
   "input_path": "G:\\My Drive\\projects\\qualitative analysis of literature\\post 5-12-2020\\git repository _ citation-deaths\\knowknow\\analyses\\ubiquitous power-law behavior.ipynb",
   "output_path": "G:\\My Drive\\projects\\qualitative analysis of literature\\post 5-12-2020\\git repository _ citation-deaths\\knowknow\\analyses\\ubiquitous power-law behavior.ipynb",
   "parameters": {
    "database_name": "sociology-jstor",
    "dtype": "t"
   },
   "start_time": "2020-05-25T08:57:26.180108",
   "version": "2.1.1"
  }
 },
 "nbformat": 4,
 "nbformat_minor": 4
}
