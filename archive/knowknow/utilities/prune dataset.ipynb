{
 "cells": [
  {
   "cell_type": "code",
   "execution_count": 1,
   "metadata": {},
   "outputs": [],
   "source": [
    "import sys; sys.path.append(_dh[0].split(\"knowknow\")[0])\n",
    "from knowknow import *"
   ]
  },
  {
   "cell_type": "markdown",
   "metadata": {},
   "source": [
    "# User Settings"
   ]
  },
  {
   "cell_type": "code",
   "execution_count": 2,
   "metadata": {},
   "outputs": [],
   "source": [
    "to_remove = ['Canadian Journal of Sociology / Cahiers canadiens de sociologie',\n",
    " 'Contagion',\n",
    " 'Contagion: Journal of Violence, Mimesis, and Culture',\n",
    " 'Contexts',\n",
    " 'Journal of Applied Social Science',\n",
    " 'Max Weber Studies',\n",
    " 'Race, Poverty & the Environment',\n",
    " 'Social Thought & Research',\n",
    " 'The Canadian Journal of Sociology / Cahiers canadiens de\\n                sociologie']\n",
    "remove_type = 'fj'\n",
    "database_name = \"sociology-jstor\""
   ]
  },
  {
   "cell_type": "markdown",
   "metadata": {},
   "source": [
    "# Consolidating"
   ]
  },
  {
   "cell_type": "code",
   "execution_count": 3,
   "metadata": {},
   "outputs": [
    {
     "name": "stdout",
     "output_type": "stream",
     "text": [
      "Loaded keys: dict_keys(['fy', 'c', 'fj', 'fj.fy', 'c.fj', 'c.fy', 'a.c', 'a.fj.fy', 'a', 'c.c', 'c.t', 't', 'fy.t', 'fj.t'])\n",
      "Available keys: ['fy', 'c', 'fj', 'fj.fy', 'c.fj', 'c.fy', 'a.c', 'a.fj.fy', 'a', 'c.c', 'c.t', 't', 'fy.t', 'fj.t']\n"
     ]
    }
   ],
   "source": [
    "cnt_name = \"%s.doc\" % database_name\n",
    "cnt_doc = get_cnt( cnt_name, keys=get_cnt_keys(cnt_name) )"
   ]
  },
  {
   "cell_type": "code",
   "execution_count": 4,
   "metadata": {},
   "outputs": [
    {
     "name": "stdout",
     "output_type": "stream",
     "text": [
      "Loaded keys: dict_keys(['fy', 'c', 'fj', 'fj.fy', 'c.fj', 'c.fy', 'a.c', 'a.fj.fy', 'a', 'c.c', 'c.t', 't', 'fy.t', 'fj.t'])\n",
      "Available keys: ['fy', 'c', 'fj', 'fj.fy', 'c.fj', 'c.fy', 'a.c', 'a.fj.fy', 'a', 'c.c', 'c.t', 't', 'fy.t', 'fj.t']\n"
     ]
    }
   ],
   "source": [
    "cnt_name = \"%s.ind\" % database_name\n",
    "cnt_ind = get_cnt( cnt_name, keys=get_cnt_keys(cnt_name) )"
   ]
  },
  {
   "cell_type": "code",
   "execution_count": 5,
   "metadata": {},
   "outputs": [
    {
     "name": "stdout",
     "output_type": "stream",
     "text": [
      "Consolidating 9 of type `fj`.\n",
      "Here are some examples: ['Canadian Journal of Sociology / Cahiers canadiens de sociologie', 'Contagion'].\n"
     ]
    }
   ],
   "source": [
    "print(\"Consolidating %s of type `%s`.\"%(len(to_remove), remove_type))\n",
    "print(\"Here are some examples: %s.\"%( list(to_remove)[:2] ))"
   ]
  },
  {
   "cell_type": "code",
   "execution_count": 6,
   "metadata": {},
   "outputs": [
    {
     "data": {
      "text/plain": [
       "['fj', 'fj.fy', 'c.fj', 'a.fj.fy', 'fj.t']"
      ]
     },
     "execution_count": 6,
     "metadata": {},
     "output_type": "execute_result"
    }
   ],
   "source": [
    "to_prune = [x for x in get_cnt_keys(cnt_name) if remove_type in x.split(\".\")]\n",
    "to_prune"
   ]
  },
  {
   "cell_type": "code",
   "execution_count": 7,
   "metadata": {},
   "outputs": [
    {
     "name": "stdout",
     "output_type": "stream",
     "text": [
      "pruning 'fj'...\n",
      "old size: 50\n",
      "new size: 41\n",
      "pruning 'fj.fy'...\n",
      "old size: 1980\n",
      "new size: 1888\n",
      "pruning 'c.fj'...\n",
      "old size: 790187\n",
      "new size: 778966\n",
      "pruning 'a.fj.fy'...\n",
      "old size: 69032\n",
      "new size: 68019\n",
      "pruning 'fj.t'...\n",
      "old size: 104876\n",
      "new size: 103871\n"
     ]
    }
   ],
   "source": [
    "for tp in to_prune:\n",
    "\n",
    "    whichT = tp.split(\".\").index( remove_type ) # this checks where 't' is in the name of the variable (first or second?)\n",
    "\n",
    "    print(\"pruning '%s'...\" % tp)\n",
    "\n",
    "    if tp == remove_type:\n",
    "        tydels = to_remove\n",
    "    else:\n",
    "        tydels = [x for x in cnt_doc[tp] if x[ whichT ] in to_remove]\n",
    "\n",
    "    print(\"old size:\", len(cnt_doc[tp]))\n",
    "    for tr in tydels:\n",
    "        del cnt_doc[tp][tr]\n",
    "        del cnt_ind[tp][tr]\n",
    "    print(\"new size:\", len(cnt_doc[tp]))"
   ]
  },
  {
   "cell_type": "code",
   "execution_count": null,
   "metadata": {},
   "outputs": [],
   "source": []
  }
 ],
 "metadata": {
  "kernelspec": {
   "display_name": "Python 3",
   "language": "python",
   "name": "python3"
  },
  "language_info": {
   "codemirror_mode": {
    "name": "ipython",
    "version": 3
   },
   "file_extension": ".py",
   "mimetype": "text/x-python",
   "name": "python",
   "nbconvert_exporter": "python",
   "pygments_lexer": "ipython3",
   "version": "3.7.5"
  }
 },
 "nbformat": 4,
 "nbformat_minor": 4
}
